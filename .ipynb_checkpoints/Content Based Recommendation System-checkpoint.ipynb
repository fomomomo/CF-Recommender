{
 "cells": [
  {
   "cell_type": "code",
   "execution_count": 1,
   "id": "21329293",
   "metadata": {},
   "outputs": [],
   "source": [
    "import pandas as pd\n",
    "import numpy as np\n",
    "import matplotlib.pyplot as plt\n",
    "import seaborn as sns\n",
    "import sklearn\n",
    "%matplotlib inline\n",
    "sns.set()"
   ]
  },
  {
   "cell_type": "code",
   "execution_count": 2,
   "id": "f70b6417",
   "metadata": {},
   "outputs": [],
   "source": [
    "products = pd.read_csv('final_products.csv')"
   ]
  },
  {
   "cell_type": "code",
   "execution_count": 3,
   "id": "45677a75",
   "metadata": {},
   "outputs": [
    {
     "data": {
      "text/plain": [
       "(152, 8)"
      ]
     },
     "execution_count": 3,
     "metadata": {},
     "output_type": "execute_result"
    }
   ],
   "source": [
    "products.shape"
   ]
  },
  {
   "cell_type": "code",
   "execution_count": 4,
   "id": "0a279dfa",
   "metadata": {},
   "outputs": [
    {
     "data": {
      "text/plain": [
       "<bound method DataFrame.info of                                                   name  \\\n",
       "0    Indian Traditional Handicraft, For Decorative,...   \n",
       "1    Indian Traditional Handicraft Golden Grass Tra...   \n",
       "2    Handmade Basket Weaving Indian Handicraft Supp...   \n",
       "3    Multicolor Wooden Elephant Statue Handmade Ena...   \n",
       "4                                   Indian Handicrafts   \n",
       "..                                                 ...   \n",
       "147            Ethnic Handicrafts Solid Wood Queen Bed   \n",
       "148           Ethnic Handicrafts Solid Wood Single Bed   \n",
       "149  Aakrati Brass Sculpture Metal Handicrafts Gift...   \n",
       "150   Anshuhandicrafts ASHCF125 Showpiece  -  13.97 cm   \n",
       "151    Anshuhandicrafts ASHCF133 Showpiece  -  6.35 cm   \n",
       "\n",
       "                                              category  pid    price  \\\n",
       "0                                   Indian Handicrafts    0    390.0   \n",
       "1                                   Indian Handicrafts    1    399.0   \n",
       "2                                   Indian Handicrafts    2    149.0   \n",
       "3                                   Indian Handicrafts    3    610.0   \n",
       "4                                   Indian Handicrafts    4    350.0   \n",
       "..                                                 ...  ...      ...   \n",
       "147   Ethnic Handicrafts Solid Wood Queen Bed (Fini...  147  39999.0   \n",
       "148   Ethnic Handicrafts Solid Wood Single Bed (Fin...  148  36999.0   \n",
       "149                            Aakrati Human Figurines  149   5299.0   \n",
       "150   Anshuhandicrafts ASHCF125 Showpiece  -  13.97...  150   1199.0   \n",
       "151   Anshuhandicrafts ASHCF133 Showpiece  -  6.35 ...  151    899.0   \n",
       "\n",
       "                                                 image  \\\n",
       "0    //5.imimg.com/data5/SELLER/Default/2021/11/BQ/...   \n",
       "1    //5.imimg.com/data5/SELLER/Default/2021/12/VF/...   \n",
       "2    //5.imimg.com/data5/SELLER/Default/2021/12/IO/...   \n",
       "3    //5.imimg.com/data5/SELLER/Default/2020/10/QM/...   \n",
       "4    //5.imimg.com/data5/SELLER/Default/2021/3/RJ/L...   \n",
       "..                                                 ...   \n",
       "147  http://img6a.flixcart.com/image/bed/v/s/k/wdi-...   \n",
       "148  http://img6a.flixcart.com/image/bed/k/y/5/wdi-...   \n",
       "149  http://img5a.flixcart.com/image/showpiece-figu...   \n",
       "150  http://img6a.flixcart.com/image/showpiece-figu...   \n",
       "151  http://img5a.flixcart.com/image/showpiece-figu...   \n",
       "\n",
       "                                           description  rating  \\\n",
       "0                   Hand Weaven Sabai Grass Wall Plate     4.5   \n",
       "1    Durable and natural wicker material, environme...     4.5   \n",
       "2    Durable and natural wicker material, environme...     4.5   \n",
       "3    Wooden Elephant showpiece is one great decor n...     4.1   \n",
       "4                                     Baldhari Exports     4.5   \n",
       "..                                                 ...     ...   \n",
       "147  Key Features of Ethnic Handicrafts Solid Wood ...     3.8   \n",
       "148  Key Features of Ethnic Handicrafts Solid Wood ...     2.8   \n",
       "149  Buy Aakrati Brass Sculpture Metal Handicrafts ...     3.2   \n",
       "150  Key Features of Anshuhandicrafts ASHCF125 Show...     3.4   \n",
       "151  Key Features of Anshuhandicrafts ASHCF133 Show...     4.4   \n",
       "\n",
       "                          brand  \n",
       "0    Sigmascott Private Limited  \n",
       "1    Sigmascott Private Limited  \n",
       "2    Sigmascott Private Limited  \n",
       "3           Nirmala Handicrafts  \n",
       "4              Baldhari Exports  \n",
       "..                          ...  \n",
       "147          Ethnic Handicrafts  \n",
       "148          Ethnic Handicrafts  \n",
       "149                     Aakrati  \n",
       "150            Anshuhandicrafts  \n",
       "151            Anshuhandicrafts  \n",
       "\n",
       "[152 rows x 8 columns]>"
      ]
     },
     "execution_count": 4,
     "metadata": {},
     "output_type": "execute_result"
    }
   ],
   "source": [
    "products.info"
   ]
  },
  {
   "cell_type": "code",
   "execution_count": null,
   "id": "d80b86fa",
   "metadata": {},
   "outputs": [],
   "source": []
  }
 ],
 "metadata": {
  "kernelspec": {
   "display_name": "Python 3 (ipykernel)",
   "language": "python",
   "name": "python3"
  },
  "language_info": {
   "codemirror_mode": {
    "name": "ipython",
    "version": 3
   },
   "file_extension": ".py",
   "mimetype": "text/x-python",
   "name": "python",
   "nbconvert_exporter": "python",
   "pygments_lexer": "ipython3",
   "version": "3.9.7"
  }
 },
 "nbformat": 4,
 "nbformat_minor": 5
}
