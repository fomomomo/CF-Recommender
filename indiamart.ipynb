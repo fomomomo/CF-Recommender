{
 "cells": [
  {
   "cell_type": "code",
   "execution_count": 3,
   "id": "bb0c7535",
   "metadata": {},
   "outputs": [],
   "source": [
    "import bs4\n",
    "import requests\n",
    "import pandas as pd\n",
    "import re\n"
   ]
  },
  {
   "cell_type": "code",
   "execution_count": 41,
   "id": "a2507c2c",
   "metadata": {},
   "outputs": [
    {
     "data": {
      "text/html": [
       "<div>\n",
       "<style scoped>\n",
       "    .dataframe tbody tr th:only-of-type {\n",
       "        vertical-align: middle;\n",
       "    }\n",
       "\n",
       "    .dataframe tbody tr th {\n",
       "        vertical-align: top;\n",
       "    }\n",
       "\n",
       "    .dataframe thead th {\n",
       "        text-align: right;\n",
       "    }\n",
       "</style>\n",
       "<table border=\"1\" class=\"dataframe\">\n",
       "  <thead>\n",
       "    <tr style=\"text-align: right;\">\n",
       "      <th></th>\n",
       "      <th>name</th>\n",
       "      <th>category</th>\n",
       "      <th>pid</th>\n",
       "      <th>price</th>\n",
       "      <th>image</th>\n",
       "      <th>description</th>\n",
       "      <th>rating</th>\n",
       "      <th>brand</th>\n",
       "    </tr>\n",
       "  </thead>\n",
       "  <tbody>\n",
       "  </tbody>\n",
       "</table>\n",
       "</div>"
      ],
      "text/plain": [
       "Empty DataFrame\n",
       "Columns: [name, category, pid, price, image, description, rating, brand]\n",
       "Index: []"
      ]
     },
     "execution_count": 41,
     "metadata": {},
     "output_type": "execute_result"
    }
   ],
   "source": [
    "df = pd.DataFrame({}, columns=['name', 'category', 'pid','price','image','description','rating','brand'])\n",
    "df"
   ]
  },
  {
   "cell_type": "code",
   "execution_count": 29,
   "id": "fb4a84cd",
   "metadata": {},
   "outputs": [
    {
     "data": {
      "text/plain": [
       "200"
      ]
     },
     "execution_count": 29,
     "metadata": {},
     "output_type": "execute_result"
    }
   ],
   "source": [
    "url = \"https://www.indiamart.com/proddetail/indian-traditional-handicraft-24159926462.html?pos=1&kwd=handicraft&tags=A||||8819.174|Price|proxy|\"\n",
    "res = requests.get(url)\n",
    "res.status_code"
   ]
  },
  {
   "cell_type": "code",
   "execution_count": 36,
   "id": "a61e53ef",
   "metadata": {},
   "outputs": [],
   "source": [
    "text=res.content\n"
   ]
  },
  {
   "cell_type": "code",
   "execution_count": 35,
   "id": "671d0fc4",
   "metadata": {},
   "outputs": [],
   "source": [
    "soup = bs4.BeautifulSoup(text)\n"
   ]
  },
  {
   "cell_type": "code",
   "execution_count": 32,
   "id": "4a51952d",
   "metadata": {},
   "outputs": [
    {
     "data": {
      "text/plain": [
       "bs4.BeautifulSoup"
      ]
     },
     "execution_count": 32,
     "metadata": {},
     "output_type": "execute_result"
    }
   ],
   "source": [
    "type(soup)"
   ]
  },
  {
   "cell_type": "code",
   "execution_count": 33,
   "id": "2a14b846",
   "metadata": {},
   "outputs": [
    {
     "data": {
      "text/plain": [
       "<title>Indian Traditional Handicraft, For Decorative, 12\", | ID: 24159926462</title>"
      ]
     },
     "execution_count": 33,
     "metadata": {},
     "output_type": "execute_result"
    }
   ],
   "source": [
    "soup.title"
   ]
  },
  {
   "cell_type": "code",
   "execution_count": 34,
   "id": "cb521b61",
   "metadata": {},
   "outputs": [
    {
     "data": {
      "text/plain": [
       "<h1 class=\"bo\">Indian Traditional Handicraft, For Decorative, 12\"</h1>"
      ]
     },
     "execution_count": 34,
     "metadata": {},
     "output_type": "execute_result"
    }
   ],
   "source": [
    "soup.find('h1')"
   ]
  },
  {
   "cell_type": "markdown",
   "id": "79d89dda",
   "metadata": {},
   "source": [
    "### Name of product"
   ]
  },
  {
   "cell_type": "code",
   "execution_count": 38,
   "id": "adf0a962",
   "metadata": {},
   "outputs": [
    {
     "name": "stdout",
     "output_type": "stream",
     "text": [
      "Indian Traditional Handicraft, For Decorative, 12\"\n"
     ]
    }
   ],
   "source": [
    "pname= soup.find('h1', attrs = {\"class\" : \"bo\"}).text\n",
    "print(pname)"
   ]
  },
  {
   "cell_type": "markdown",
   "id": "02fa0012",
   "metadata": {},
   "source": [
    "### Price of Product"
   ]
  },
  {
   "cell_type": "code",
   "execution_count": 39,
   "id": "455bca4f",
   "metadata": {},
   "outputs": [
    {
     "name": "stdout",
     "output_type": "stream",
     "text": [
      "₹ 390\n"
     ]
    }
   ],
   "source": [
    "pprice= soup.find('span', attrs = {\"class\" : \"prc-tip bo\"}).text\n",
    "print(pprice)"
   ]
  },
  {
   "cell_type": "markdown",
   "id": "96a9bca0",
   "metadata": {},
   "source": [
    "### description"
   ]
  },
  {
   "cell_type": "code",
   "execution_count": 52,
   "id": "7d8ce677",
   "metadata": {},
   "outputs": [
    {
     "data": {
      "text/plain": [
       "'\\nHand Weaven Sabai Grass Wall Plate\\xa0Comes with an attached hoop at the back to hang on the wall\\xa0Made with 100% Sabai grass and colorful threads\\xa0Set of 3 consists of 1 small (8 inch), 1 medium (10 inches), and 1 large (12 inches)\\xa0Our Sabai baskets have been handwoven through fair trade with craftswomen in Orissa. Use them as fruit baskets or wall decor, they come with hooks attached!\\xa0Instructions: Dust with a dry cloth\\xa0 \\nAdditional Information  Production Capacity  1000Pcs/Month \\n'"
      ]
     },
     "execution_count": 52,
     "metadata": {},
     "output_type": "execute_result"
    }
   ],
   "source": [
    "parent_div= soup.find('div', attrs = {\"class\" : \"fs16 lh28 pdpCtsr\"}).text\n",
    "parent_div"
   ]
  },
  {
   "cell_type": "code",
   "execution_count": 57,
   "id": "81b5cb82",
   "metadata": {},
   "outputs": [
    {
     "data": {
      "text/plain": [
       "'Hand Weaven Sabai Grass Wall Plate'"
      ]
     },
     "execution_count": 57,
     "metadata": {},
     "output_type": "execute_result"
    }
   ],
   "source": [
    "pdesp=parent_div.split('\\xa0')[0][1:]\n",
    "pdesp"
   ]
  },
  {
   "cell_type": "markdown",
   "id": "517fbaa3",
   "metadata": {},
   "source": [
    "### brand name"
   ]
  },
  {
   "cell_type": "code",
   "execution_count": 59,
   "id": "c5b737b3",
   "metadata": {},
   "outputs": [
    {
     "name": "stdout",
     "output_type": "stream",
     "text": [
      "Sigmascott Private Limited\n"
     ]
    }
   ],
   "source": [
    "pbrand= soup.find('h2', attrs = {\"class\" : \"fs15 bo\"}).text\n",
    "print(pbrand)"
   ]
  },
  {
   "cell_type": "markdown",
   "id": "c5b916b2",
   "metadata": {},
   "source": [
    "### image"
   ]
  },
  {
   "cell_type": "code",
   "execution_count": 61,
   "id": "40bca438",
   "metadata": {},
   "outputs": [
    {
     "data": {
      "text/plain": [
       "<img alt='Indian Traditional Handicraft, For Decorative, 12\"' class=\"lazy\" data-original=\"//5.imimg.com/data5/SELLER/Default/2021/11/BQ/CO/YY/77706935/p9-500x500.png\" id=\"large_img_0\" loading=\"lazy\" src=\"//utils.imimg.com/imsrchui/imgs/z.gif\"/>"
      ]
     },
     "execution_count": 61,
     "metadata": {},
     "output_type": "execute_result"
    }
   ],
   "source": [
    "pimage= soup.find('img', attrs = {\"id\" : \"large_img_0\"})\n",
    "pimage"
   ]
  },
  {
   "cell_type": "code",
   "execution_count": 64,
   "id": "c8fe0741",
   "metadata": {},
   "outputs": [
    {
     "data": {
      "text/plain": [
       "'//5.imimg.com/data5/SELLER/Default/2021/11/BQ/CO/YY/77706935/p9-500x500.png'"
      ]
     },
     "execution_count": 64,
     "metadata": {},
     "output_type": "execute_result"
    }
   ],
   "source": [
    "pimage_url=pimage.attrs['data-original']\n",
    "pimage_url"
   ]
  },
  {
   "cell_type": "markdown",
   "id": "f767d781",
   "metadata": {},
   "source": [
    "### rating (out of 5)"
   ]
  },
  {
   "cell_type": "code",
   "execution_count": 69,
   "id": "0a34bb5f",
   "metadata": {},
   "outputs": [
    {
     "data": {
      "text/plain": [
       "4.5"
      ]
     },
     "execution_count": 69,
     "metadata": {},
     "output_type": "execute_result"
    }
   ],
   "source": [
    "prating= soup.find('span', attrs = {\"class\" : \"bo color\"}).text\n",
    "prating=float(prating)\n",
    "prating"
   ]
  },
  {
   "cell_type": "markdown",
   "id": "1ed6ea3a",
   "metadata": {},
   "source": [
    "### product id"
   ]
  },
  {
   "cell_type": "code",
   "execution_count": 79,
   "id": "47654614",
   "metadata": {},
   "outputs": [],
   "source": [
    "div_id= soup.find('div', attrs = {\"id\" : \"next_prddtl\"})\n",
    "pid=div_id.attrs['data-title']"
   ]
  },
  {
   "cell_type": "code",
   "execution_count": 80,
   "id": "a45fe43c",
   "metadata": {},
   "outputs": [
    {
     "data": {
      "text/plain": [
       "'Indian Traditional Handicraft, For Decorative, 12\", | ID: 24159926462'"
      ]
     },
     "execution_count": 80,
     "metadata": {},
     "output_type": "execute_result"
    }
   ],
   "source": [
    "pid"
   ]
  },
  {
   "cell_type": "code",
   "execution_count": 82,
   "id": "3fc0df12",
   "metadata": {},
   "outputs": [
    {
     "data": {
      "text/plain": [
       "'24159926462'"
      ]
     },
     "execution_count": 82,
     "metadata": {},
     "output_type": "execute_result"
    }
   ],
   "source": [
    "pid=pid[-11:]\n",
    "pid"
   ]
  },
  {
   "cell_type": "code",
   "execution_count": null,
   "id": "61c06b3e",
   "metadata": {},
   "outputs": [],
   "source": []
  }
 ],
 "metadata": {
  "kernelspec": {
   "display_name": "Python 3",
   "language": "python",
   "name": "python3"
  },
  "language_info": {
   "codemirror_mode": {
    "name": "ipython",
    "version": 3
   },
   "file_extension": ".py",
   "mimetype": "text/x-python",
   "name": "python",
   "nbconvert_exporter": "python",
   "pygments_lexer": "ipython3",
   "version": "3.8.8"
  }
 },
 "nbformat": 4,
 "nbformat_minor": 5
}
