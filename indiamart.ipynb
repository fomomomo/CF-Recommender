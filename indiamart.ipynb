{
 "cells": [
  {
   "cell_type": "code",
   "execution_count": 3,
   "id": "3a7be1c5",
   "metadata": {},
   "outputs": [],
   "source": [
    "import bs4\n",
    "import requests\n",
    "import pandas as pd\n",
    "import re\n"
   ]
  },
  {
   "cell_type": "code",
   "execution_count": 41,
   "id": "f4c17e63",
   "metadata": {},
   "outputs": [
    {
     "data": {
      "text/html": [
       "<div>\n",
       "<style scoped>\n",
       "    .dataframe tbody tr th:only-of-type {\n",
       "        vertical-align: middle;\n",
       "    }\n",
       "\n",
       "    .dataframe tbody tr th {\n",
       "        vertical-align: top;\n",
       "    }\n",
       "\n",
       "    .dataframe thead th {\n",
       "        text-align: right;\n",
       "    }\n",
       "</style>\n",
       "<table border=\"1\" class=\"dataframe\">\n",
       "  <thead>\n",
       "    <tr style=\"text-align: right;\">\n",
       "      <th></th>\n",
       "      <th>name</th>\n",
       "      <th>category</th>\n",
       "      <th>pid</th>\n",
       "      <th>price</th>\n",
       "      <th>image</th>\n",
       "      <th>description</th>\n",
       "      <th>rating</th>\n",
       "      <th>brand</th>\n",
       "    </tr>\n",
       "  </thead>\n",
       "  <tbody>\n",
       "  </tbody>\n",
       "</table>\n",
       "</div>"
      ],
      "text/plain": [
       "Empty DataFrame\n",
       "Columns: [name, category, pid, price, image, description, rating, brand]\n",
       "Index: []"
      ]
     },
     "execution_count": 41,
     "metadata": {},
     "output_type": "execute_result"
    }
   ],
   "source": [
    "df = pd.DataFrame({}, columns=['name', 'category', 'pid','price','image','description','rating','brand'])\n",
    "df"
   ]
  },
  {
   "cell_type": "code",
   "execution_count": 29,
   "id": "c7cf4958",
   "metadata": {},
   "outputs": [
    {
     "data": {
      "text/plain": [
       "200"
      ]
     },
     "execution_count": 29,
     "metadata": {},
     "output_type": "execute_result"
    }
   ],
   "source": [
    "url = \"https://www.indiamart.com/proddetail/indian-traditional-handicraft-24159926462.html?pos=1&kwd=handicraft&tags=A||||8819.174|Price|proxy|\"\n",
    "res = requests.get(url)\n",
    "res.status_code"
   ]
  },
  {
   "cell_type": "code",
   "execution_count": 36,
   "id": "e2d81508",
   "metadata": {},
   "outputs": [],
   "source": [
    "text=res.content\n"
   ]
  },
  {
   "cell_type": "code",
   "execution_count": 35,
   "id": "c7b443c7",
   "metadata": {},
   "outputs": [],
   "source": [
    "soup = bs4.BeautifulSoup(text)\n"
   ]
  },
  {
   "cell_type": "code",
   "execution_count": 32,
   "id": "0c73fecb",
   "metadata": {},
   "outputs": [
    {
     "data": {
      "text/plain": [
       "bs4.BeautifulSoup"
      ]
     },
     "execution_count": 32,
     "metadata": {},
     "output_type": "execute_result"
    }
   ],
   "source": [
    "type(soup)"
   ]
  },
  {
   "cell_type": "code",
   "execution_count": 33,
   "id": "36d76d59",
   "metadata": {},
   "outputs": [
    {
     "data": {
      "text/plain": [
       "<title>Indian Traditional Handicraft, For Decorative, 12\", | ID: 24159926462</title>"
      ]
     },
     "execution_count": 33,
     "metadata": {},
     "output_type": "execute_result"
    }
   ],
   "source": [
    "soup.title"
   ]
  },
  {
   "cell_type": "code",
   "execution_count": 34,
   "id": "c391f8b1",
   "metadata": {},
   "outputs": [
    {
     "data": {
      "text/plain": [
       "<h1 class=\"bo\">Indian Traditional Handicraft, For Decorative, 12\"</h1>"
      ]
     },
     "execution_count": 34,
     "metadata": {},
     "output_type": "execute_result"
    }
   ],
   "source": [
    "soup.find('h1')"
   ]
  },
  {
   "cell_type": "markdown",
   "id": "6ce6dbeb",
   "metadata": {},
   "source": [
    "### Name of product"
   ]
  },
  {
   "cell_type": "code",
   "execution_count": 38,
   "id": "186cd955",
   "metadata": {},
   "outputs": [
    {
     "name": "stdout",
     "output_type": "stream",
     "text": [
      "Indian Traditional Handicraft, For Decorative, 12\"\n"
     ]
    }
   ],
   "source": [
    "pname= soup.find('h1', attrs = {\"class\" : \"bo\"}).text\n",
    "print(pname)"
   ]
  },
  {
   "cell_type": "markdown",
   "id": "3d643dd0",
   "metadata": {},
   "source": [
    "### Price of Product"
   ]
  },
  {
   "cell_type": "code",
   "execution_count": 39,
   "id": "89fc33a7",
   "metadata": {},
   "outputs": [
    {
     "name": "stdout",
     "output_type": "stream",
     "text": [
      "₹ 390\n"
     ]
    }
   ],
   "source": [
    "pprice= soup.find('span', attrs = {\"class\" : \"prc-tip bo\"}).text\n",
    "print(pprice)"
   ]
  },
  {
   "cell_type": "markdown",
   "id": "c1650ba9",
   "metadata": {},
   "source": [
    "### description"
   ]
  },
  {
   "cell_type": "code",
   "execution_count": 52,
   "id": "6b15ec0c",
   "metadata": {},
   "outputs": [
    {
     "data": {
      "text/plain": [
       "'\\nHand Weaven Sabai Grass Wall Plate\\xa0Comes with an attached hoop at the back to hang on the wall\\xa0Made with 100% Sabai grass and colorful threads\\xa0Set of 3 consists of 1 small (8 inch), 1 medium (10 inches), and 1 large (12 inches)\\xa0Our Sabai baskets have been handwoven through fair trade with craftswomen in Orissa. Use them as fruit baskets or wall decor, they come with hooks attached!\\xa0Instructions: Dust with a dry cloth\\xa0 \\nAdditional Information  Production Capacity  1000Pcs/Month \\n'"
      ]
     },
     "execution_count": 52,
     "metadata": {},
     "output_type": "execute_result"
    }
   ],
   "source": [
    "parent_div= soup.find('div', attrs = {\"class\" : \"fs16 lh28 pdpCtsr\"}).text\n",
    "parent_div"
   ]
  },
  {
   "cell_type": "code",
   "execution_count": 57,
   "id": "c7e22928",
   "metadata": {},
   "outputs": [
    {
     "data": {
      "text/plain": [
       "'Hand Weaven Sabai Grass Wall Plate'"
      ]
     },
     "execution_count": 57,
     "metadata": {},
     "output_type": "execute_result"
    }
   ],
   "source": [
    "pdesp=parent_div.split('\\xa0')[0][1:]\n",
    "pdesp"
   ]
  },
  {
   "cell_type": "markdown",
   "id": "7282944b",
   "metadata": {},
   "source": [
    "### brand name"
   ]
  },
  {
   "cell_type": "code",
   "execution_count": 59,
   "id": "1fcc082d",
   "metadata": {},
   "outputs": [
    {
     "name": "stdout",
     "output_type": "stream",
     "text": [
      "Sigmascott Private Limited\n"
     ]
    }
   ],
   "source": [
    "pbrand= soup.find('h2', attrs = {\"class\" : \"fs15 bo\"}).text\n",
    "print(pbrand)"
   ]
  },
  {
   "cell_type": "markdown",
   "id": "45ce38c0",
   "metadata": {},
   "source": [
    "### image"
   ]
  },
  {
   "cell_type": "code",
   "execution_count": 61,
   "id": "e2f46070",
   "metadata": {},
   "outputs": [
    {
     "data": {
      "text/plain": [
       "<img alt='Indian Traditional Handicraft, For Decorative, 12\"' class=\"lazy\" data-original=\"//5.imimg.com/data5/SELLER/Default/2021/11/BQ/CO/YY/77706935/p9-500x500.png\" id=\"large_img_0\" loading=\"lazy\" src=\"//utils.imimg.com/imsrchui/imgs/z.gif\"/>"
      ]
     },
     "execution_count": 61,
     "metadata": {},
     "output_type": "execute_result"
    }
   ],
   "source": [
    "pimage= soup.find('img', attrs = {\"id\" : \"large_img_0\"})\n",
    "pimage"
   ]
  },
  {
   "cell_type": "code",
   "execution_count": 64,
   "id": "24cb2e33",
   "metadata": {},
   "outputs": [
    {
     "data": {
      "text/plain": [
       "'//5.imimg.com/data5/SELLER/Default/2021/11/BQ/CO/YY/77706935/p9-500x500.png'"
      ]
     },
     "execution_count": 64,
     "metadata": {},
     "output_type": "execute_result"
    }
   ],
   "source": [
    "pimage_url=pimage.attrs['data-original']\n",
    "pimage_url"
   ]
  },
  {
   "cell_type": "markdown",
   "id": "fd3e9298",
   "metadata": {},
   "source": [
    "### rating (out of 5)"
   ]
  },
  {
   "cell_type": "code",
   "execution_count": 69,
   "id": "d1b12a4c",
   "metadata": {},
   "outputs": [
    {
     "data": {
      "text/plain": [
       "4.5"
      ]
     },
     "execution_count": 69,
     "metadata": {},
     "output_type": "execute_result"
    }
   ],
   "source": [
    "prating= soup.find('span', attrs = {\"class\" : \"bo color\"}).text\n",
    "prating=float(prating)\n",
    "prating"
   ]
  },
  {
   "cell_type": "markdown",
   "id": "d62fc686",
   "metadata": {},
   "source": [
    "### product id"
   ]
  },
  {
   "cell_type": "code",
   "execution_count": 79,
   "id": "18e67bf6",
   "metadata": {},
   "outputs": [],
   "source": [
    "div_id= soup.find('div', attrs = {\"id\" : \"next_prddtl\"})\n",
    "pid=div_id.attrs['data-title']"
   ]
  },
  {
   "cell_type": "code",
   "execution_count": 80,
   "id": "0414a86a",
   "metadata": {},
   "outputs": [
    {
     "data": {
      "text/plain": [
       "'Indian Traditional Handicraft, For Decorative, 12\", | ID: 24159926462'"
      ]
     },
     "execution_count": 80,
     "metadata": {},
     "output_type": "execute_result"
    }
   ],
   "source": [
    "pid"
   ]
  },
  {
   "cell_type": "code",
   "execution_count": 82,
   "id": "4e294c73",
   "metadata": {},
   "outputs": [
    {
     "data": {
      "text/plain": [
       "'24159926462'"
      ]
     },
     "execution_count": 82,
     "metadata": {},
     "output_type": "execute_result"
    }
   ],
   "source": [
    "pid=pid[-11:]\n",
    "pid"
   ]
  },
  {
   "cell_type": "markdown",
   "id": "f15b473f",
   "metadata": {},
   "source": [
    "### category"
   ]
  },
  {
   "cell_type": "code",
   "execution_count": 83,
   "id": "836a444b",
   "metadata": {},
   "outputs": [
    {
     "data": {
      "text/plain": [
       "'Indian Handicrafts'"
      ]
     },
     "execution_count": 83,
     "metadata": {},
     "output_type": "execute_result"
    }
   ],
   "source": [
    "pcategory= soup.find('a', attrs = {\"class\" : \"color6\"}).text\n",
    "pcategory"
   ]
  },
  {
   "cell_type": "code",
   "execution_count": 87,
   "id": "a37eedf9",
   "metadata": {},
   "outputs": [],
   "source": [
    "ele = {'name':pname,'category':pcategory,'pid':pid,'price':pprice,'image':pimage_url,'description':pdesp,'rating':prating,'brand':pbrand}"
   ]
  },
  {
   "cell_type": "code",
   "execution_count": 88,
   "id": "2caba2a2",
   "metadata": {},
   "outputs": [
    {
     "data": {
      "text/html": [
       "<div>\n",
       "<style scoped>\n",
       "    .dataframe tbody tr th:only-of-type {\n",
       "        vertical-align: middle;\n",
       "    }\n",
       "\n",
       "    .dataframe tbody tr th {\n",
       "        vertical-align: top;\n",
       "    }\n",
       "\n",
       "    .dataframe thead th {\n",
       "        text-align: right;\n",
       "    }\n",
       "</style>\n",
       "<table border=\"1\" class=\"dataframe\">\n",
       "  <thead>\n",
       "    <tr style=\"text-align: right;\">\n",
       "      <th></th>\n",
       "      <th>name</th>\n",
       "      <th>category</th>\n",
       "      <th>pid</th>\n",
       "      <th>price</th>\n",
       "      <th>image</th>\n",
       "      <th>description</th>\n",
       "      <th>rating</th>\n",
       "      <th>brand</th>\n",
       "    </tr>\n",
       "  </thead>\n",
       "  <tbody>\n",
       "    <tr>\n",
       "      <th>0</th>\n",
       "      <td>Indian Traditional Handicraft, For Decorative,...</td>\n",
       "      <td>Indian Handicrafts</td>\n",
       "      <td>24159926462</td>\n",
       "      <td>₹ 390</td>\n",
       "      <td>//5.imimg.com/data5/SELLER/Default/2021/11/BQ/...</td>\n",
       "      <td>Hand Weaven Sabai Grass Wall Plate</td>\n",
       "      <td>4.5</td>\n",
       "      <td>Sigmascott Private Limited</td>\n",
       "    </tr>\n",
       "  </tbody>\n",
       "</table>\n",
       "</div>"
      ],
      "text/plain": [
       "                                                name            category  \\\n",
       "0  Indian Traditional Handicraft, For Decorative,...  Indian Handicrafts   \n",
       "\n",
       "           pid  price                                              image  \\\n",
       "0  24159926462  ₹ 390  //5.imimg.com/data5/SELLER/Default/2021/11/BQ/...   \n",
       "\n",
       "                          description  rating                       brand  \n",
       "0  Hand Weaven Sabai Grass Wall Plate     4.5  Sigmascott Private Limited  "
      ]
     },
     "execution_count": 88,
     "metadata": {},
     "output_type": "execute_result"
    }
   ],
   "source": [
    "df = df.append(ele, ignore_index=True)\n",
    "df"
   ]
  },
  {
   "cell_type": "markdown",
   "id": "b14cdcaf",
   "metadata": {},
   "source": [
    "### now a function which will take the url and and add it to the csv file"
   ]
  },
  {
   "cell_type": "code",
   "execution_count": 94,
   "id": "0faa4b54",
   "metadata": {},
   "outputs": [],
   "source": [
    "def update_data(url):\n",
    "    res = requests.get(url)\n",
    "    text=res.content\n",
    "    soup = bs4.BeautifulSoup(text)\n",
    "    pname= soup.find('h1', attrs = {\"class\" : \"bo\"}).text\n",
    "    pprice= soup.find('span', attrs = {\"class\" : \"prc-tip bo\"}).text\n",
    "    parent_div= soup.find('div', attrs = {\"class\" : \"fs16 lh28 pdpCtsr\"}).text\n",
    "    pdesp=parent_div.split('\\xa0')[0][1:]\n",
    "    pbrand= soup.find('h2', attrs = {\"class\" : \"fs15 bo\"}).text\n",
    "    pimage= soup.find('img', attrs = {\"id\" : \"large_img_0\"})\n",
    "    pimage_url=pimage.attrs['data-original']\n",
    "    pcategory= soup.find('a', attrs = {\"class\" : \"color6\"}).text\n",
    "    prating= soup.find('span', attrs = {\"class\" : \"bo color\"}).text\n",
    "    prating=float(prating)\n",
    "    div_id= soup.find('div', attrs = {\"id\" : \"next_prddtl\"})\n",
    "    pid=div_id.attrs['data-title']\n",
    "    pid=pid[-11:]\n",
    "    ele = {'name':pname,'category':pcategory,'pid':pid,'price':pprice,'image':pimage_url,'description':pdesp,'rating':prating,'brand':pbrand}\n",
    "    return ele "
   ]
  },
  {
   "cell_type": "code",
   "execution_count": 127,
   "id": "a120dd72",
   "metadata": {},
   "outputs": [],
   "source": [
    "copy_df=df.copy()"
   ]
  },
  {
   "cell_type": "code",
   "execution_count": 125,
   "id": "210f49ba",
   "metadata": {},
   "outputs": [],
   "source": [
    "ele=update_data('https://www.indiamart.com/proddetail/meditating-buddha-statue-sitting-on-lotus-16313158088.html?pos=1&pla=n')\n",
    "df = df.append(ele, ignore_index=True)"
   ]
  },
  {
   "cell_type": "code",
   "execution_count": 126,
   "id": "d7dae9cb",
   "metadata": {},
   "outputs": [
    {
     "data": {
      "text/html": [
       "<div>\n",
       "<style scoped>\n",
       "    .dataframe tbody tr th:only-of-type {\n",
       "        vertical-align: middle;\n",
       "    }\n",
       "\n",
       "    .dataframe tbody tr th {\n",
       "        vertical-align: top;\n",
       "    }\n",
       "\n",
       "    .dataframe thead th {\n",
       "        text-align: right;\n",
       "    }\n",
       "</style>\n",
       "<table border=\"1\" class=\"dataframe\">\n",
       "  <thead>\n",
       "    <tr style=\"text-align: right;\">\n",
       "      <th></th>\n",
       "      <th>name</th>\n",
       "      <th>category</th>\n",
       "      <th>pid</th>\n",
       "      <th>price</th>\n",
       "      <th>image</th>\n",
       "      <th>description</th>\n",
       "      <th>rating</th>\n",
       "      <th>brand</th>\n",
       "    </tr>\n",
       "  </thead>\n",
       "  <tbody>\n",
       "    <tr>\n",
       "      <th>0</th>\n",
       "      <td>Indian Traditional Handicraft, For Decorative,...</td>\n",
       "      <td>Indian Handicrafts</td>\n",
       "      <td>24159926462</td>\n",
       "      <td>₹ 390</td>\n",
       "      <td>//5.imimg.com/data5/SELLER/Default/2021/11/BQ/...</td>\n",
       "      <td>Hand Weaven Sabai Grass Wall Plate</td>\n",
       "      <td>4.5</td>\n",
       "      <td>Sigmascott Private Limited</td>\n",
       "    </tr>\n",
       "    <tr>\n",
       "      <th>1</th>\n",
       "      <td>Indian Traditional Handicraft Golden Grass Tra...</td>\n",
       "      <td>Indian Handicrafts</td>\n",
       "      <td>24323869212</td>\n",
       "      <td>₹ 399</td>\n",
       "      <td>//5.imimg.com/data5/SELLER/Default/2021/12/VF/...</td>\n",
       "      <td>Durable and natura...</td>\n",
       "      <td>4.5</td>\n",
       "      <td>Sigmascott Private Limited</td>\n",
       "    </tr>\n",
       "    <tr>\n",
       "      <th>2</th>\n",
       "      <td>Handmade Basket Weaving Indian Handicraft Supp...</td>\n",
       "      <td>Indian Handicrafts</td>\n",
       "      <td>24323811997</td>\n",
       "      <td>₹ 149</td>\n",
       "      <td>//5.imimg.com/data5/SELLER/Default/2021/12/IO/...</td>\n",
       "      <td>Durable and natura...</td>\n",
       "      <td>4.5</td>\n",
       "      <td>Sigmascott Private Limited</td>\n",
       "    </tr>\n",
       "    <tr>\n",
       "      <th>3</th>\n",
       "      <td>Multicolor Wooden Elephant Statue Handmade Ena...</td>\n",
       "      <td>Indian Handicrafts</td>\n",
       "      <td>22761403673</td>\n",
       "      <td>₹ 610</td>\n",
       "      <td>//5.imimg.com/data5/SELLER/Default/2020/10/QM/...</td>\n",
       "      <td>Wooden Elephant sh...</td>\n",
       "      <td>4.1</td>\n",
       "      <td>Nirmala Handicrafts</td>\n",
       "    </tr>\n",
       "    <tr>\n",
       "      <th>4</th>\n",
       "      <td>Indian Handicrafts</td>\n",
       "      <td>Indian Handicrafts</td>\n",
       "      <td>23216707162</td>\n",
       "      <td>₹ 350</td>\n",
       "      <td>//5.imimg.com/data5/SELLER/Default/2021/3/RJ/L...</td>\n",
       "      <td>Baldhari Exports</td>\n",
       "      <td>4.5</td>\n",
       "      <td>Baldhari Exports</td>\n",
       "    </tr>\n",
       "    <tr>\n",
       "      <th>5</th>\n",
       "      <td>Metal Camel Statue Meenakari Painting Indian C...</td>\n",
       "      <td>Indian Handicrafts</td>\n",
       "      <td>22460979191</td>\n",
       "      <td>₹ 2,000</td>\n",
       "      <td>//5.imimg.com/data5/YA/ML/ZI/SELLER-2656943/12...</td>\n",
       "      <td>Product Code  WEB CODE   MT 1022 12  We bring ...</td>\n",
       "      <td>4.8</td>\n",
       "      <td>Shri Handicrafts</td>\n",
       "    </tr>\n",
       "    <tr>\n",
       "      <th>6</th>\n",
       "      <td>TWG Handicraft Mix Polyresin Decorative Ashirw...</td>\n",
       "      <td>Buddha Statue</td>\n",
       "      <td>16310583730</td>\n",
       "      <td>₹ 290</td>\n",
       "      <td>//5.imimg.com/data5/SELLER/Default/2021/4/SR/S...</td>\n",
       "      <td>We are India's Tru...</td>\n",
       "      <td>3.7</td>\n",
       "      <td>TWG HANDICRAFT</td>\n",
       "    </tr>\n",
       "    <tr>\n",
       "      <th>7</th>\n",
       "      <td>Madhubani Hand Painted Pure Tussar Silk Long D...</td>\n",
       "      <td>Tussar Silk Dupatta</td>\n",
       "      <td>24798317212</td>\n",
       "      <td>₹ 3,000</td>\n",
       "      <td>//5.imimg.com/data5/SELLER/Default/2022/2/SX/V...</td>\n",
       "      <td>Explore the collection of beautifully designed...</td>\n",
       "      <td>4.6</td>\n",
       "      <td>Manisha Silk  Weaves</td>\n",
       "    </tr>\n",
       "    <tr>\n",
       "      <th>8</th>\n",
       "      <td>Silk Embroidery Dupatta</td>\n",
       "      <td>Dupattas</td>\n",
       "      <td>21512930633</td>\n",
       "      <td>₹ 280</td>\n",
       "      <td>//5.imimg.com/data5/XU/OY/AC/ANDROID-38167341/...</td>\n",
       "      <td>Pire cotton silk d...</td>\n",
       "      <td>4.6</td>\n",
       "      <td>N. M. Enterprises</td>\n",
       "    </tr>\n",
       "    <tr>\n",
       "      <th>9</th>\n",
       "      <td>Sami Gota Work Bandani silk duppta</td>\n",
       "      <td>Silk Dupatta</td>\n",
       "      <td>22446610291</td>\n",
       "      <td>₹ 250</td>\n",
       "      <td>//5.imimg.com/data5/RU/EB/ZU/ANDROID-9025741/p...</td>\n",
       "      <td>Bandani gotta patt...</td>\n",
       "      <td>5.0</td>\n",
       "      <td>Maviss Fashion</td>\n",
       "    </tr>\n",
       "    <tr>\n",
       "      <th>10</th>\n",
       "      <td>TWG Handicraft Multicolor Meditating Buddha St...</td>\n",
       "      <td>Buddha Statue</td>\n",
       "      <td>16313158088</td>\n",
       "      <td>₹ 2,100</td>\n",
       "      <td>//5.imimg.com/data5/SELLER/Default/2021/4/EV/M...</td>\n",
       "      <td>We are Best Known ...</td>\n",
       "      <td>3.7</td>\n",
       "      <td>TWG HANDICRAFT</td>\n",
       "    </tr>\n",
       "  </tbody>\n",
       "</table>\n",
       "</div>"
      ],
      "text/plain": [
       "                                                 name             category  \\\n",
       "0   Indian Traditional Handicraft, For Decorative,...   Indian Handicrafts   \n",
       "1   Indian Traditional Handicraft Golden Grass Tra...   Indian Handicrafts   \n",
       "2   Handmade Basket Weaving Indian Handicraft Supp...   Indian Handicrafts   \n",
       "3   Multicolor Wooden Elephant Statue Handmade Ena...   Indian Handicrafts   \n",
       "4                                  Indian Handicrafts   Indian Handicrafts   \n",
       "5   Metal Camel Statue Meenakari Painting Indian C...   Indian Handicrafts   \n",
       "6   TWG Handicraft Mix Polyresin Decorative Ashirw...        Buddha Statue   \n",
       "7   Madhubani Hand Painted Pure Tussar Silk Long D...  Tussar Silk Dupatta   \n",
       "8                             Silk Embroidery Dupatta             Dupattas   \n",
       "9                  Sami Gota Work Bandani silk duppta         Silk Dupatta   \n",
       "10  TWG Handicraft Multicolor Meditating Buddha St...        Buddha Statue   \n",
       "\n",
       "            pid    price                                              image  \\\n",
       "0   24159926462    ₹ 390  //5.imimg.com/data5/SELLER/Default/2021/11/BQ/...   \n",
       "1   24323869212    ₹ 399  //5.imimg.com/data5/SELLER/Default/2021/12/VF/...   \n",
       "2   24323811997    ₹ 149  //5.imimg.com/data5/SELLER/Default/2021/12/IO/...   \n",
       "3   22761403673    ₹ 610  //5.imimg.com/data5/SELLER/Default/2020/10/QM/...   \n",
       "4   23216707162    ₹ 350  //5.imimg.com/data5/SELLER/Default/2021/3/RJ/L...   \n",
       "5   22460979191  ₹ 2,000  //5.imimg.com/data5/YA/ML/ZI/SELLER-2656943/12...   \n",
       "6   16310583730    ₹ 290  //5.imimg.com/data5/SELLER/Default/2021/4/SR/S...   \n",
       "7   24798317212  ₹ 3,000  //5.imimg.com/data5/SELLER/Default/2022/2/SX/V...   \n",
       "8   21512930633    ₹ 280  //5.imimg.com/data5/XU/OY/AC/ANDROID-38167341/...   \n",
       "9   22446610291    ₹ 250  //5.imimg.com/data5/RU/EB/ZU/ANDROID-9025741/p...   \n",
       "10  16313158088  ₹ 2,100  //5.imimg.com/data5/SELLER/Default/2021/4/EV/M...   \n",
       "\n",
       "                                          description  rating  \\\n",
       "0                  Hand Weaven Sabai Grass Wall Plate     4.5   \n",
       "1                               Durable and natura...     4.5   \n",
       "2                               Durable and natura...     4.5   \n",
       "3                               Wooden Elephant sh...     4.1   \n",
       "4                                    Baldhari Exports     4.5   \n",
       "5   Product Code  WEB CODE   MT 1022 12  We bring ...     4.8   \n",
       "6                               We are India's Tru...     3.7   \n",
       "7   Explore the collection of beautifully designed...     4.6   \n",
       "8                               Pire cotton silk d...     4.6   \n",
       "9                               Bandani gotta patt...     5.0   \n",
       "10                              We are Best Known ...     3.7   \n",
       "\n",
       "                         brand  \n",
       "0   Sigmascott Private Limited  \n",
       "1   Sigmascott Private Limited  \n",
       "2   Sigmascott Private Limited  \n",
       "3          Nirmala Handicrafts  \n",
       "4             Baldhari Exports  \n",
       "5             Shri Handicrafts  \n",
       "6               TWG HANDICRAFT  \n",
       "7         Manisha Silk  Weaves  \n",
       "8            N. M. Enterprises  \n",
       "9               Maviss Fashion  \n",
       "10              TWG HANDICRAFT  "
      ]
     },
     "execution_count": 126,
     "metadata": {},
     "output_type": "execute_result"
    }
   ],
   "source": [
    "df"
   ]
  },
  {
   "cell_type": "code",
   "execution_count": null,
   "id": "708f54e4",
   "metadata": {},
   "outputs": [],
   "source": [
    "df['description']=df['description'].apply(lambda x:x.str)"
   ]
  },
  {
   "cell_type": "code",
   "execution_count": 128,
   "id": "fff86c89",
   "metadata": {},
   "outputs": [],
   "source": [
    "df.to_csv(\"indiamart.csv\", index=False)"
   ]
  },
  {
   "cell_type": "code",
   "execution_count": null,
   "id": "7956ec57",
   "metadata": {},
   "outputs": [],
   "source": []
  }
 ],
 "metadata": {
  "kernelspec": {
   "display_name": "Python 3",
   "language": "python",
   "name": "python3"
  },
  "language_info": {
   "codemirror_mode": {
    "name": "ipython",
    "version": 3
   },
   "file_extension": ".py",
   "mimetype": "text/x-python",
   "name": "python",
   "nbconvert_exporter": "python",
   "pygments_lexer": "ipython3",
   "version": "3.8.8"
  }
 },
 "nbformat": 4,
 "nbformat_minor": 5
}
