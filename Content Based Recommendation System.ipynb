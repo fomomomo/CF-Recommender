{
 "cells": [
  {
   "cell_type": "code",
   "execution_count": 1,
   "id": "21329293",
   "metadata": {},
   "outputs": [],
   "source": [
    "import pandas as pd\n",
    "import numpy as np\n",
    "import matplotlib.pyplot as plt\n",
    "import seaborn as sns\n",
    "import sklearn\n",
    "%matplotlib inline\n",
    "sns.set()"
   ]
  },
  {
   "cell_type": "code",
   "execution_count": 2,
   "id": "f70b6417",
   "metadata": {},
   "outputs": [],
   "source": [
    "products = pd.read_csv('final_products.csv')"
   ]
  },
  {
   "cell_type": "code",
   "execution_count": 3,
   "id": "45677a75",
   "metadata": {},
   "outputs": [
    {
     "data": {
      "text/plain": [
       "(152, 8)"
      ]
     },
     "execution_count": 3,
     "metadata": {},
     "output_type": "execute_result"
    }
   ],
   "source": [
    "products.shape"
   ]
  },
  {
   "cell_type": "code",
   "execution_count": 4,
   "id": "d9e05155",
   "metadata": {},
   "outputs": [
    {
     "name": "stdout",
     "output_type": "stream",
     "text": [
      "<class 'pandas.core.frame.DataFrame'>\n",
      "RangeIndex: 152 entries, 0 to 151\n",
      "Data columns (total 8 columns):\n",
      " #   Column       Non-Null Count  Dtype  \n",
      "---  ------       --------------  -----  \n",
      " 0   name         152 non-null    object \n",
      " 1   category     152 non-null    object \n",
      " 2   pid          152 non-null    int64  \n",
      " 3   price        152 non-null    float64\n",
      " 4   image        152 non-null    object \n",
      " 5   description  152 non-null    object \n",
      " 6   rating       152 non-null    float64\n",
      " 7   brand        152 non-null    object \n",
      "dtypes: float64(2), int64(1), object(5)\n",
      "memory usage: 9.6+ KB\n"
     ]
    }
   ],
   "source": [
    "products.info()"
   ]
  },
  {
   "cell_type": "code",
   "execution_count": 5,
   "id": "0425383a",
   "metadata": {},
   "outputs": [
    {
     "data": {
      "text/plain": [
       "'Hand Weaven Sabai Grass Wall Plate'"
      ]
     },
     "execution_count": 5,
     "metadata": {},
     "output_type": "execute_result"
    }
   ],
   "source": [
    "products.description[0]"
   ]
  },
  {
   "cell_type": "markdown",
   "id": "62a381d0",
   "metadata": {},
   "source": [
    "## <font color='grey'> Content Based Recommendations using similarities in description </font>"
   ]
  },
  {
   "cell_type": "code",
   "execution_count": 6,
   "id": "4e04f088",
   "metadata": {},
   "outputs": [],
   "source": [
    "from sklearn.feature_extraction.text import TfidfVectorizer\n",
    "tfv = TfidfVectorizer(max_features=None,\n",
    "                     strip_accents='unicode',\n",
    "                     analyzer='word',\n",
    "                     min_df=10,\n",
    "                     token_pattern=r'\\w{1,}',\n",
    "                     ngram_range=(1,3),#take the combination of 1-3 different kind of words\n",
    "                     stop_words='english')#removes all the unnecessary characters like the,in etc.\n",
    "products['description'] = products['description'].fillna('')"
   ]
  },
  {
   "cell_type": "code",
   "execution_count": 7,
   "id": "58fa1af4",
   "metadata": {},
   "outputs": [],
   "source": [
    "#fitting the description column.\n",
    "tfv_matrix = tfv.fit_transform(products['description'])#converting everythinng to sparse matrix."
   ]
  },
  {
   "cell_type": "code",
   "execution_count": 8,
   "id": "f75766d8",
   "metadata": {},
   "outputs": [
    {
     "data": {
      "text/plain": [
       "<152x304 sparse matrix of type '<class 'numpy.float64'>'\n",
       "\twith 5729 stored elements in Compressed Sparse Row format>"
      ]
     },
     "execution_count": 8,
     "metadata": {},
     "output_type": "execute_result"
    }
   ],
   "source": [
    "tfv_matrix"
   ]
  },
  {
   "cell_type": "code",
   "execution_count": 9,
   "id": "89f819db",
   "metadata": {},
   "outputs": [
    {
     "data": {
      "text/plain": [
       "(152, 304)"
      ]
     },
     "execution_count": 9,
     "metadata": {},
     "output_type": "execute_result"
    }
   ],
   "source": [
    "tfv_matrix.shape"
   ]
  },
  {
   "cell_type": "code",
   "execution_count": 10,
   "id": "7096a634",
   "metadata": {},
   "outputs": [],
   "source": [
    "from sklearn.metrics.pairwise import sigmoid_kernel\n",
    "sig = sigmoid_kernel(tfv_matrix,tfv_matrix)#how description of first product is related to first product and so on."
   ]
  },
  {
   "cell_type": "code",
   "execution_count": 11,
   "id": "c19f0667",
   "metadata": {},
   "outputs": [
    {
     "data": {
      "text/plain": [
       "array([0.76297219, 0.76159416, 0.76159416, 0.76200206, 0.76159416,\n",
       "       0.76159416, 0.76159416, 0.76194517, 0.76159416, 0.76159416,\n",
       "       0.76159416, 0.76159416, 0.76159416, 0.76159416, 0.76159416,\n",
       "       0.76159416, 0.76159416, 0.76159416, 0.76159416, 0.76159416,\n",
       "       0.76159416, 0.76159416, 0.76159416, 0.76159416, 0.76159416,\n",
       "       0.76159416, 0.76159416, 0.76159416, 0.76159416, 0.76159416,\n",
       "       0.76159416, 0.76159416, 0.76159416, 0.76159416, 0.76187757,\n",
       "       0.76159416, 0.76159416, 0.76159416, 0.76159416, 0.76159416,\n",
       "       0.76159416, 0.76159416, 0.76159416, 0.76159416, 0.76159416,\n",
       "       0.76159416, 0.76159416, 0.76159416, 0.76159416, 0.76159416,\n",
       "       0.76159416, 0.76159416, 0.76159416, 0.76194391, 0.76180588,\n",
       "       0.76159416, 0.76192939, 0.76159416, 0.76159416, 0.76159416,\n",
       "       0.76159416, 0.76159416, 0.76159416, 0.76159416, 0.76159416,\n",
       "       0.76159416, 0.76159416, 0.76159416, 0.76159416, 0.76159416,\n",
       "       0.76159416, 0.76159416, 0.76173266, 0.76173266, 0.76173266,\n",
       "       0.76173266, 0.76173266, 0.76159416, 0.76171738, 0.76159416,\n",
       "       0.76159416, 0.76168032, 0.76159416, 0.76159416, 0.76159416,\n",
       "       0.76159416, 0.76159416, 0.76159416, 0.76193256, 0.76159416,\n",
       "       0.76159416, 0.76159416, 0.76159416, 0.76159416, 0.76159416,\n",
       "       0.76159416, 0.76159416, 0.76159416, 0.76159416, 0.76159416,\n",
       "       0.76159416, 0.76159416, 0.76159416, 0.76159416, 0.76159416,\n",
       "       0.76159416, 0.76159416, 0.76159416, 0.76159416, 0.76159416,\n",
       "       0.76159416, 0.76159416, 0.76159416, 0.76159416, 0.76176915,\n",
       "       0.76159416, 0.76159416, 0.76159416, 0.76159416, 0.76171374,\n",
       "       0.76159416, 0.76159416, 0.76176119, 0.76175308, 0.76177073,\n",
       "       0.76173405, 0.76176097, 0.7617591 , 0.76175627, 0.7617586 ,\n",
       "       0.76177171, 0.7617707 , 0.76177483, 0.76175555, 0.76176053,\n",
       "       0.76176044, 0.76159416, 0.76159416, 0.76159416, 0.76159416,\n",
       "       0.76159416, 0.76159416, 0.76167689, 0.76159416, 0.76159416,\n",
       "       0.76159416, 0.76159416, 0.76159416, 0.76159416, 0.76159416,\n",
       "       0.76159416, 0.7616597 ])"
      ]
     },
     "execution_count": 11,
     "metadata": {},
     "output_type": "execute_result"
    }
   ],
   "source": [
    "sig[0]"
   ]
  },
  {
   "cell_type": "code",
   "execution_count": 26,
   "id": "26e87f8a",
   "metadata": {},
   "outputs": [],
   "source": [
    "indices = pd.Series(products.index,index=products['name']).drop_duplicates()"
   ]
  },
  {
   "cell_type": "code",
   "execution_count": 27,
   "id": "82b00539",
   "metadata": {},
   "outputs": [
    {
     "data": {
      "text/plain": [
       "name\n",
       "Indian Traditional Handicraft, For Decorative, 12\"                                                       0\n",
       "Indian Traditional Handicraft Golden Grass Tray, For Decorative, 8\"x2\"                                   1\n",
       "Handmade Basket Weaving Indian Handicraft Supplier Golden Grass Mini Round Box, For Decorative, 3\"X4\"    2\n",
       "Multicolor Wooden Elephant Statue Handmade Enamel Work Decorative Showpiece, 8*4*8                       3\n",
       "Indian Handicrafts                                                                                       4\n",
       "Metal Camel Statue Meenakari Painting Indian Crafts Jaipur Rajasthani Handicrafts                        5\n",
       "TWG Handicraft Mix Polyresin Decorative Ashirwad Buddha Statue                                           6\n",
       "Madhubani Hand Painted Pure Tussar Silk Long Dupatta., Cream,white                                       7\n",
       "Silk Embroidery Dupatta                                                                                  8\n",
       "Sami Gota Work Bandani silk duppta                                                                       9\n",
       "dtype: int64"
      ]
     },
     "execution_count": 27,
     "metadata": {},
     "output_type": "execute_result"
    }
   ],
   "source": [
    "indices.head(10)"
   ]
  },
  {
   "cell_type": "code",
   "execution_count": 14,
   "id": "0a083769",
   "metadata": {},
   "outputs": [],
   "source": [
    "def product_recommendation(title,sig=sig):\n",
    "    indx = indices[title]\n",
    "    \n",
    "    #getting pairwise similarity scores\n",
    "    sig_scores = list(enumerate(sig[indx]))\n",
    "    \n",
    "    #sorting products\n",
    "    sig_scores = sorted(sig_scores, key=lambda x: x[1], reverse=True)\n",
    "    \n",
    "    #10 most similar products score\n",
    "    sig_scores = sig_scores[1:11]\n",
    "    \n",
    "    #product indexes\n",
    "    product_indices = [i[0] for i in sig_scores]\n",
    "    \n",
    "    #Top 10 most similar products\n",
    "    return products['name'].iloc[product_indices]"
   ]
  },
  {
   "cell_type": "code",
   "execution_count": 15,
   "id": "9e5def6c",
   "metadata": {
    "scrolled": true
   },
   "outputs": [
    {
     "name": "stdout",
     "output_type": "stream",
     "text": [
      "Enter the name of the product: Indian Traditional Handicraft, For Decorative, 12\"\n",
      "\n",
      "Top Recommended products are: \n",
      "\n",
      "['Multicolor Wooden Elephant Statue Handmade Enamel Work Decorative Showpiece, 8*4*8'\n",
      " 'Madhubani Hand Painted Pure Tussar Silk Long Dupatta., Cream,white'\n",
      " 'Brown Wood Elephant Shikaar Carvings/Wooden Elephant'\n",
      " 'Shoppingtara Canon Handicraft Home Decor Showpiece  -  5 cm'\n",
      " 'Wooden Parrot Round Pavati Wp057'\n",
      " 'Golden Round Decorative glass pumpkin, For Decoration'\n",
      " 'Wooden Bawla Musician for Decoration, Size: 2.5 Inches'\n",
      " 'eKolhapuri Terracotta Vase']\n"
     ]
    }
   ],
   "source": [
    "n=input(\"Enter the name of the product: \")\n",
    "print(\"\\nTop Recommended products are: \\n\")\n",
    "print(product_recommendation(n, sig=sig).unique())"
   ]
  },
  {
   "cell_type": "code",
   "execution_count": 16,
   "id": "fa784a00",
   "metadata": {},
   "outputs": [],
   "source": [
    "products['features'] = (pd.Series(products[['description', 'name', 'category']].fillna('').values.tolist()).str.join(' '))"
   ]
  },
  {
   "cell_type": "code",
   "execution_count": 17,
   "id": "686f2752",
   "metadata": {},
   "outputs": [],
   "source": [
    "tfv2 = TfidfVectorizer(max_features=None,\n",
    "                     strip_accents='unicode',\n",
    "                     analyzer='word',\n",
    "                     min_df=10,\n",
    "                     token_pattern=r'\\w{1,}',\n",
    "                     ngram_range=(1,3),#take the combination of 1-3 different kind of words\n",
    "                     stop_words='english')"
   ]
  },
  {
   "cell_type": "code",
   "execution_count": 18,
   "id": "9e710d7e",
   "metadata": {},
   "outputs": [],
   "source": [
    "tfv_matrix2 = tfv2.fit_transform(products['features'])"
   ]
  },
  {
   "cell_type": "code",
   "execution_count": 19,
   "id": "e03d9215",
   "metadata": {},
   "outputs": [
    {
     "data": {
      "text/plain": [
       "<152x325 sparse matrix of type '<class 'numpy.float64'>'\n",
       "\twith 6109 stored elements in Compressed Sparse Row format>"
      ]
     },
     "execution_count": 19,
     "metadata": {},
     "output_type": "execute_result"
    }
   ],
   "source": [
    "tfv_matrix2"
   ]
  },
  {
   "cell_type": "code",
   "execution_count": 20,
   "id": "8da4e29f",
   "metadata": {},
   "outputs": [
    {
     "data": {
      "text/plain": [
       "(152, 325)"
      ]
     },
     "execution_count": 20,
     "metadata": {},
     "output_type": "execute_result"
    }
   ],
   "source": [
    "tfv_matrix2.shape"
   ]
  },
  {
   "cell_type": "code",
   "execution_count": 21,
   "id": "3f2f1350",
   "metadata": {},
   "outputs": [],
   "source": [
    "sig2 = sigmoid_kernel(tfv_matrix2,tfv_matrix2)"
   ]
  },
  {
   "cell_type": "code",
   "execution_count": 22,
   "id": "4bae89bb",
   "metadata": {},
   "outputs": [
    {
     "data": {
      "text/plain": [
       "array([0.76288336, 0.76269908, 0.76243031, 0.76190131, 0.76253333,\n",
       "       0.76204224, 0.76180229, 0.76171069, 0.76159416, 0.76159416,\n",
       "       0.76179349, 0.76159416, 0.76159416, 0.76159416, 0.76179986,\n",
       "       0.76159416, 0.76159416, 0.76159416, 0.76159416, 0.76159416,\n",
       "       0.76159416, 0.76159416, 0.76159416, 0.76159416, 0.76159416,\n",
       "       0.76159416, 0.76159416, 0.76167912, 0.76159416, 0.76159416,\n",
       "       0.76159416, 0.76159416, 0.76159416, 0.76159416, 0.76177102,\n",
       "       0.76164997, 0.76170213, 0.76162351, 0.76183118, 0.76159416,\n",
       "       0.76167467, 0.76173569, 0.76163966, 0.76168235, 0.76203494,\n",
       "       0.76182945, 0.76167872, 0.76159416, 0.76172526, 0.76167037,\n",
       "       0.76159416, 0.76183855, 0.76159416, 0.76165803, 0.76168114,\n",
       "       0.76164204, 0.76172738, 0.76159416, 0.76159416, 0.76159416,\n",
       "       0.76159416, 0.76159416, 0.76159416, 0.76159416, 0.76159416,\n",
       "       0.76159416, 0.76159416, 0.76159416, 0.76159416, 0.76159416,\n",
       "       0.76159416, 0.76162219, 0.76171044, 0.76171044, 0.76171044,\n",
       "       0.76171044, 0.76171044, 0.76163394, 0.76185885, 0.76174083,\n",
       "       0.76194276, 0.76178042, 0.76167458, 0.76167737, 0.76169062,\n",
       "       0.76167737, 0.76167458, 0.76167737, 0.76175348, 0.76167003,\n",
       "       0.76167737, 0.76166446, 0.76168125, 0.7616571 , 0.76161786,\n",
       "       0.76164707, 0.76165028, 0.76164707, 0.76167737, 0.76165047,\n",
       "       0.76165498, 0.76166831, 0.76165498, 0.76165154, 0.76164728,\n",
       "       0.76166132, 0.76167737, 0.76165498, 0.76164707, 0.76165094,\n",
       "       0.76167917, 0.76168318, 0.76164707, 0.76167737, 0.76217401,\n",
       "       0.76162895, 0.76169441, 0.76169757, 0.76189433, 0.76165861,\n",
       "       0.76169062, 0.76174777, 0.76169698, 0.76169327, 0.76170083,\n",
       "       0.76175263, 0.76169637, 0.76169517, 0.76169516, 0.76169542,\n",
       "       0.76170179, 0.76170081, 0.76170414, 0.7616929 , 0.76169704,\n",
       "       0.76169662, 0.76169836, 0.76169721, 0.76166753, 0.76163416,\n",
       "       0.7616546 , 0.7617463 , 0.76168009, 0.76189648, 0.7616825 ,\n",
       "       0.76166486, 0.76163351, 0.76163347, 0.7616334 , 0.76165436,\n",
       "       0.76161226, 0.76162659])"
      ]
     },
     "execution_count": 22,
     "metadata": {},
     "output_type": "execute_result"
    }
   ],
   "source": [
    "sig2[0]"
   ]
  },
  {
   "cell_type": "code",
   "execution_count": 23,
   "id": "57dd1271",
   "metadata": {},
   "outputs": [
    {
     "name": "stdout",
     "output_type": "stream",
     "text": [
      "Enter the name of the product: Indian Traditional Handicraft, For Decorative, 12\"\n",
      "\n",
      "Top Recommended products are: \n",
      "\n",
      "['Indian Traditional Handicraft Golden Grass Tray, For Decorative, 8\"x2\"'\n",
      " 'Indian Handicrafts'\n",
      " 'Handmade Basket Weaving Indian Handicraft Supplier Golden Grass Mini Round Box, For Decorative, 3\"X4\"'\n",
      " 'Lal Haveli Decorative Owl Showpiece  -  15.24 cm'\n",
      " 'Metal Camel Statue Meenakari Painting Indian Crafts Jaipur Rajasthani Handicrafts'\n",
      " 'Round White Decorative Artificial Flowers Ring, For Event Decorations'\n",
      " 'Amba Handicraft 3 Face Clock Showpiece  -  64 cm'\n",
      " 'Multicolor Wooden Elephant Statue Handmade Enamel Work Decorative Showpiece, 8*4*8'\n",
      " 'Utsav Handicraft UHD004 Showpiece  -  8 cm'\n",
      " 'Ark Creation Decorative Shankh']\n"
     ]
    }
   ],
   "source": [
    "n=input(\"Enter the name of the product: \")\n",
    "print(\"\\nTop Recommended products are: \\n\")\n",
    "print(product_recommendation(n, sig=sig2).unique())"
   ]
  },
  {
   "cell_type": "code",
   "execution_count": null,
   "id": "b1bc03bb",
   "metadata": {},
   "outputs": [],
   "source": []
  }
 ],
 "metadata": {
  "kernelspec": {
   "display_name": "Python 3 (ipykernel)",
   "language": "python",
   "name": "python3"
  },
  "language_info": {
   "codemirror_mode": {
    "name": "ipython",
    "version": 3
   },
   "file_extension": ".py",
   "mimetype": "text/x-python",
   "name": "python",
   "nbconvert_exporter": "python",
   "pygments_lexer": "ipython3",
   "version": "3.9.7"
  }
 },
 "nbformat": 4,
 "nbformat_minor": 5
}
