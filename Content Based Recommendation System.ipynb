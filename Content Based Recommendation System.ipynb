{
 "cells": [
  {
   "cell_type": "code",
   "execution_count": 1,
   "id": "21329293",
   "metadata": {},
   "outputs": [],
   "source": [
    "import pandas as pd\n",
    "import numpy as np\n",
    "import matplotlib.pyplot as plt\n",
    "import seaborn as sns\n",
    "import sklearn\n",
    "%matplotlib inline\n",
    "sns.set()"
   ]
  },
  {
   "cell_type": "code",
   "execution_count": 2,
   "id": "f70b6417",
   "metadata": {},
   "outputs": [],
   "source": [
    "products = pd.read_csv('final_products.csv')"
   ]
  },
  {
   "cell_type": "code",
   "execution_count": 3,
   "id": "45677a75",
   "metadata": {},
   "outputs": [
    {
     "data": {
      "text/plain": [
       "(152, 8)"
      ]
     },
     "execution_count": 3,
     "metadata": {},
     "output_type": "execute_result"
    }
   ],
   "source": [
    "products.shape"
   ]
  },
  {
   "cell_type": "code",
   "execution_count": 5,
   "id": "d9e05155",
   "metadata": {},
   "outputs": [
    {
     "name": "stdout",
     "output_type": "stream",
     "text": [
      "<class 'pandas.core.frame.DataFrame'>\n",
      "RangeIndex: 152 entries, 0 to 151\n",
      "Data columns (total 8 columns):\n",
      " #   Column       Non-Null Count  Dtype  \n",
      "---  ------       --------------  -----  \n",
      " 0   name         152 non-null    object \n",
      " 1   category     152 non-null    object \n",
      " 2   pid          152 non-null    int64  \n",
      " 3   price        152 non-null    float64\n",
      " 4   image        152 non-null    object \n",
      " 5   description  152 non-null    object \n",
      " 6   rating       152 non-null    float64\n",
      " 7   brand        152 non-null    object \n",
      "dtypes: float64(2), int64(1), object(5)\n",
      "memory usage: 9.6+ KB\n"
     ]
    }
   ],
   "source": [
    "products.info()"
   ]
  },
  {
   "cell_type": "code",
   "execution_count": 6,
   "id": "0425383a",
   "metadata": {},
   "outputs": [
    {
     "data": {
      "text/plain": [
       "'Hand Weaven Sabai Grass Wall Plate'"
      ]
     },
     "execution_count": 6,
     "metadata": {},
     "output_type": "execute_result"
    }
   ],
   "source": [
    "products.description[0]"
   ]
  },
  {
   "cell_type": "markdown",
   "id": "62a381d0",
   "metadata": {},
   "source": [
    "## <font color='grey'> Content Based Recommendations using similarities in description </font>"
   ]
  },
  {
   "cell_type": "code",
   "execution_count": 8,
   "id": "4e04f088",
   "metadata": {},
   "outputs": [],
   "source": [
    "from sklearn.feature_extraction.text import TfidfVectorizer\n",
    "tfv = TfidfVectorizer(max_features=None,\n",
    "                     strip_accents='unicode',\n",
    "                     analyzer='word',\n",
    "                     min_df=10,\n",
    "                     token_pattern=r'\\w{1,}',\n",
    "                     ngram_range=(1,3),#take the combination of 1-3 different kind of words\n",
    "                     stop_words='english')#removes all the unnecessary characters like the,in etc.\n",
    "products['description'] = products['description'].fillna('')"
   ]
  },
  {
   "cell_type": "code",
   "execution_count": 9,
   "id": "58fa1af4",
   "metadata": {},
   "outputs": [],
   "source": [
    "#fitting the description column.\n",
    "tfv_matrix = tfv.fit_transform(products['description'])#converting everythinng to sparse matrix."
   ]
  },
  {
   "cell_type": "code",
   "execution_count": 10,
   "id": "f75766d8",
   "metadata": {},
   "outputs": [
    {
     "data": {
      "text/plain": [
       "<152x304 sparse matrix of type '<class 'numpy.float64'>'\n",
       "\twith 5729 stored elements in Compressed Sparse Row format>"
      ]
     },
     "execution_count": 10,
     "metadata": {},
     "output_type": "execute_result"
    }
   ],
   "source": [
    "tfv_matrix"
   ]
  },
  {
   "cell_type": "code",
   "execution_count": 11,
   "id": "89f819db",
   "metadata": {},
   "outputs": [
    {
     "data": {
      "text/plain": [
       "(152, 304)"
      ]
     },
     "execution_count": 11,
     "metadata": {},
     "output_type": "execute_result"
    }
   ],
   "source": [
    "tfv_matrix.shape"
   ]
  },
  {
   "cell_type": "code",
   "execution_count": 12,
   "id": "7096a634",
   "metadata": {},
   "outputs": [],
   "source": [
    "from sklearn.metrics.pairwise import sigmoid_kernel\n",
    "sig = sigmoid_kernel(tfv_matrix,tfv_matrix)#how description of first product is related to first product and so on."
   ]
  },
  {
   "cell_type": "code",
   "execution_count": 13,
   "id": "c19f0667",
   "metadata": {},
   "outputs": [
    {
     "data": {
      "text/plain": [
       "array([0.76297219, 0.76159416, 0.76159416, 0.76200206, 0.76159416,\n",
       "       0.76159416, 0.76159416, 0.76194517, 0.76159416, 0.76159416,\n",
       "       0.76159416, 0.76159416, 0.76159416, 0.76159416, 0.76159416,\n",
       "       0.76159416, 0.76159416, 0.76159416, 0.76159416, 0.76159416,\n",
       "       0.76159416, 0.76159416, 0.76159416, 0.76159416, 0.76159416,\n",
       "       0.76159416, 0.76159416, 0.76159416, 0.76159416, 0.76159416,\n",
       "       0.76159416, 0.76159416, 0.76159416, 0.76159416, 0.76187757,\n",
       "       0.76159416, 0.76159416, 0.76159416, 0.76159416, 0.76159416,\n",
       "       0.76159416, 0.76159416, 0.76159416, 0.76159416, 0.76159416,\n",
       "       0.76159416, 0.76159416, 0.76159416, 0.76159416, 0.76159416,\n",
       "       0.76159416, 0.76159416, 0.76159416, 0.76194391, 0.76180588,\n",
       "       0.76159416, 0.76192939, 0.76159416, 0.76159416, 0.76159416,\n",
       "       0.76159416, 0.76159416, 0.76159416, 0.76159416, 0.76159416,\n",
       "       0.76159416, 0.76159416, 0.76159416, 0.76159416, 0.76159416,\n",
       "       0.76159416, 0.76159416, 0.76173266, 0.76173266, 0.76173266,\n",
       "       0.76173266, 0.76173266, 0.76159416, 0.76171738, 0.76159416,\n",
       "       0.76159416, 0.76168032, 0.76159416, 0.76159416, 0.76159416,\n",
       "       0.76159416, 0.76159416, 0.76159416, 0.76193256, 0.76159416,\n",
       "       0.76159416, 0.76159416, 0.76159416, 0.76159416, 0.76159416,\n",
       "       0.76159416, 0.76159416, 0.76159416, 0.76159416, 0.76159416,\n",
       "       0.76159416, 0.76159416, 0.76159416, 0.76159416, 0.76159416,\n",
       "       0.76159416, 0.76159416, 0.76159416, 0.76159416, 0.76159416,\n",
       "       0.76159416, 0.76159416, 0.76159416, 0.76159416, 0.76176915,\n",
       "       0.76159416, 0.76159416, 0.76159416, 0.76159416, 0.76171374,\n",
       "       0.76159416, 0.76159416, 0.76176119, 0.76175308, 0.76177073,\n",
       "       0.76173405, 0.76176097, 0.7617591 , 0.76175627, 0.7617586 ,\n",
       "       0.76177171, 0.7617707 , 0.76177483, 0.76175555, 0.76176053,\n",
       "       0.76176044, 0.76159416, 0.76159416, 0.76159416, 0.76159416,\n",
       "       0.76159416, 0.76159416, 0.76167689, 0.76159416, 0.76159416,\n",
       "       0.76159416, 0.76159416, 0.76159416, 0.76159416, 0.76159416,\n",
       "       0.76159416, 0.7616597 ])"
      ]
     },
     "execution_count": 13,
     "metadata": {},
     "output_type": "execute_result"
    }
   ],
   "source": [
    "sig[0]"
   ]
  },
  {
   "cell_type": "code",
   "execution_count": 15,
   "id": "26e87f8a",
   "metadata": {},
   "outputs": [],
   "source": [
    "indices = pd.Series(products.index,index=products['name']).drop_duplicates()"
   ]
  },
  {
   "cell_type": "code",
   "execution_count": 16,
   "id": "82b00539",
   "metadata": {},
   "outputs": [
    {
     "data": {
      "text/plain": [
       "name\n",
       "Indian Traditional Handicraft, For Decorative, 12\"                                                       0\n",
       "Indian Traditional Handicraft Golden Grass Tray, For Decorative, 8\"x2\"                                   1\n",
       "Handmade Basket Weaving Indian Handicraft Supplier Golden Grass Mini Round Box, For Decorative, 3\"X4\"    2\n",
       "Multicolor Wooden Elephant Statue Handmade Enamel Work Decorative Showpiece, 8*4*8                       3\n",
       "Indian Handicrafts                                                                                       4\n",
       "Metal Camel Statue Meenakari Painting Indian Crafts Jaipur Rajasthani Handicrafts                        5\n",
       "TWG Handicraft Mix Polyresin Decorative Ashirwad Buddha Statue                                           6\n",
       "Madhubani Hand Painted Pure Tussar Silk Long Dupatta., Cream,white                                       7\n",
       "Silk Embroidery Dupatta                                                                                  8\n",
       "Sami Gota Work Bandani silk duppta                                                                       9\n",
       "dtype: int64"
      ]
     },
     "execution_count": 16,
     "metadata": {},
     "output_type": "execute_result"
    }
   ],
   "source": [
    "indices.head(10)"
   ]
  },
  {
   "cell_type": "code",
   "execution_count": 22,
   "id": "0a083769",
   "metadata": {},
   "outputs": [],
   "source": [
    "def product_recommendation(title,sig=sig):\n",
    "    indx = indices[title]\n",
    "    \n",
    "    #getting pairwise similarity scores\n",
    "    sig_scores = list(enumerate(sig[indx]))\n",
    "    \n",
    "    #sorting products\n",
    "    sig_scores = sorted(sig_scores, key=lambda x: x[1], reverse=True)\n",
    "    \n",
    "    #10 most similar products score\n",
    "    sig_scores = sig_scores[1:11]\n",
    "    \n",
    "    #product indexes\n",
    "    product_indices = [i[0] for i in sig_scores]\n",
    "    \n",
    "    #Top 10 most similar products\n",
    "    return products['name'].iloc[product_indices]"
   ]
  },
  {
   "cell_type": "code",
   "execution_count": 23,
   "id": "9e5def6c",
   "metadata": {},
   "outputs": [
    {
     "name": "stdout",
     "output_type": "stream",
     "text": [
      "Enter the name of the product: Simran Handicrafts Solid Wood Tray\n",
      "\n",
      "Top Recommended products are: \n",
      "\n",
      "['Rajrang Carved Pattern Elephant Showpiece  -  8 cm'\n",
      " 'Rastogi Handicrafts JOINT LESS LEAK PROOF DECORATIVE 950 ml Bottle'\n",
      " 'Balaji Velvet Sofa Cover'\n",
      " 'Mahadev Handicrafts Cotton Cartoon Double Bedsheet'\n",
      " 'AND Designs Artistic Wooden Key Holder Wooden Key Holder'\n",
      " 'Brown Wood Elephant Shikaar Carvings/Wooden Elephant'\n",
      " 'Ethnic Handicrafts Solid Wood Queen Bed'\n",
      " 'Ethnic Handicrafts Solid Wood Single Bed']\n"
     ]
    }
   ],
   "source": [
    "n=input(\"Enter the name of the product: \")\n",
    "print(\"\\nTop Recommended products are: \\n\")\n",
    "print(product_recommendation(n).unique())"
   ]
  },
  {
   "cell_type": "code",
   "execution_count": null,
   "id": "fa784a00",
   "metadata": {},
   "outputs": [],
   "source": []
  }
 ],
 "metadata": {
  "kernelspec": {
   "display_name": "Python 3 (ipykernel)",
   "language": "python",
   "name": "python3"
  },
  "language_info": {
   "codemirror_mode": {
    "name": "ipython",
    "version": 3
   },
   "file_extension": ".py",
   "mimetype": "text/x-python",
   "name": "python",
   "nbconvert_exporter": "python",
   "pygments_lexer": "ipython3",
   "version": "3.9.7"
  }
 },
 "nbformat": 4,
 "nbformat_minor": 5
}
