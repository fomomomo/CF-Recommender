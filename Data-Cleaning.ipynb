{
 "cells": [
  {
   "cell_type": "code",
   "execution_count": 2,
   "id": "21092a94",
   "metadata": {},
   "outputs": [],
   "source": [
    "import pandas as pd\n",
    "import numpy as np\n",
    "import matplotlib.pyplot as plt\n",
    "import seaborn as sns\n",
    "import sklearn\n",
    "%matplotlib inline\n",
    "sns.set()"
   ]
  },
  {
   "cell_type": "code",
   "execution_count": 3,
   "id": "bfa892e7",
   "metadata": {},
   "outputs": [],
   "source": [
    "flip = pd.read_csv('TempDatasets/flipkart-sample.csv')"
   ]
  },
  {
   "cell_type": "markdown",
   "id": "add106d6",
   "metadata": {},
   "source": [
    "## <font color='Grey'> Getting Required fields </font>"
   ]
  },
  {
   "cell_type": "code",
   "execution_count": 4,
   "id": "0a1bfbf3",
   "metadata": {},
   "outputs": [
    {
     "data": {
      "text/plain": [
       "(20000, 15)"
      ]
     },
     "execution_count": 4,
     "metadata": {},
     "output_type": "execute_result"
    }
   ],
   "source": [
    "flip.shape"
   ]
  },
  {
   "cell_type": "code",
   "execution_count": 5,
   "id": "cd7bc8f7",
   "metadata": {},
   "outputs": [
    {
     "data": {
      "text/html": [
       "<div>\n",
       "<style scoped>\n",
       "    .dataframe tbody tr th:only-of-type {\n",
       "        vertical-align: middle;\n",
       "    }\n",
       "\n",
       "    .dataframe tbody tr th {\n",
       "        vertical-align: top;\n",
       "    }\n",
       "\n",
       "    .dataframe thead th {\n",
       "        text-align: right;\n",
       "    }\n",
       "</style>\n",
       "<table border=\"1\" class=\"dataframe\">\n",
       "  <thead>\n",
       "    <tr style=\"text-align: right;\">\n",
       "      <th></th>\n",
       "      <th>uniq_id</th>\n",
       "      <th>crawl_timestamp</th>\n",
       "      <th>product_url</th>\n",
       "      <th>product_name</th>\n",
       "      <th>product_category_tree</th>\n",
       "      <th>pid</th>\n",
       "      <th>retail_price</th>\n",
       "      <th>discounted_price</th>\n",
       "      <th>image</th>\n",
       "      <th>is_FK_Advantage_product</th>\n",
       "      <th>description</th>\n",
       "      <th>product_rating</th>\n",
       "      <th>overall_rating</th>\n",
       "      <th>brand</th>\n",
       "      <th>product_specifications</th>\n",
       "    </tr>\n",
       "  </thead>\n",
       "  <tbody>\n",
       "    <tr>\n",
       "      <th>0</th>\n",
       "      <td>c2d766ca982eca8304150849735ffef9</td>\n",
       "      <td>2016-03-25 22:59:23 +0000</td>\n",
       "      <td>http://www.flipkart.com/alisha-solid-women-s-c...</td>\n",
       "      <td>Alisha Solid Women's Cycling Shorts</td>\n",
       "      <td>[\"Clothing &gt;&gt; Women's Clothing &gt;&gt; Lingerie, Sl...</td>\n",
       "      <td>SRTEH2FF9KEDEFGF</td>\n",
       "      <td>999.0</td>\n",
       "      <td>379.0</td>\n",
       "      <td>[\"http://img5a.flixcart.com/image/short/u/4/a/...</td>\n",
       "      <td>False</td>\n",
       "      <td>Key Features of Alisha Solid Women's Cycling S...</td>\n",
       "      <td>No rating available</td>\n",
       "      <td>No rating available</td>\n",
       "      <td>Alisha</td>\n",
       "      <td>{\"product_specification\"=&gt;[{\"key\"=&gt;\"Number of ...</td>\n",
       "    </tr>\n",
       "    <tr>\n",
       "      <th>1</th>\n",
       "      <td>7f7036a6d550aaa89d34c77bd39a5e48</td>\n",
       "      <td>2016-03-25 22:59:23 +0000</td>\n",
       "      <td>http://www.flipkart.com/fabhomedecor-fabric-do...</td>\n",
       "      <td>FabHomeDecor Fabric Double Sofa Bed</td>\n",
       "      <td>[\"Furniture &gt;&gt; Living Room Furniture &gt;&gt; Sofa B...</td>\n",
       "      <td>SBEEH3QGU7MFYJFY</td>\n",
       "      <td>32157.0</td>\n",
       "      <td>22646.0</td>\n",
       "      <td>[\"http://img6a.flixcart.com/image/sofa-bed/j/f...</td>\n",
       "      <td>False</td>\n",
       "      <td>FabHomeDecor Fabric Double Sofa Bed (Finish Co...</td>\n",
       "      <td>No rating available</td>\n",
       "      <td>No rating available</td>\n",
       "      <td>FabHomeDecor</td>\n",
       "      <td>{\"product_specification\"=&gt;[{\"key\"=&gt;\"Installati...</td>\n",
       "    </tr>\n",
       "    <tr>\n",
       "      <th>2</th>\n",
       "      <td>f449ec65dcbc041b6ae5e6a32717d01b</td>\n",
       "      <td>2016-03-25 22:59:23 +0000</td>\n",
       "      <td>http://www.flipkart.com/aw-bellies/p/itmeh4grg...</td>\n",
       "      <td>AW Bellies</td>\n",
       "      <td>[\"Footwear &gt;&gt; Women's Footwear &gt;&gt; Ballerinas &gt;...</td>\n",
       "      <td>SHOEH4GRSUBJGZXE</td>\n",
       "      <td>999.0</td>\n",
       "      <td>499.0</td>\n",
       "      <td>[\"http://img5a.flixcart.com/image/shoe/7/z/z/r...</td>\n",
       "      <td>False</td>\n",
       "      <td>Key Features of AW Bellies Sandals Wedges Heel...</td>\n",
       "      <td>No rating available</td>\n",
       "      <td>No rating available</td>\n",
       "      <td>AW</td>\n",
       "      <td>{\"product_specification\"=&gt;[{\"key\"=&gt;\"Ideal For\"...</td>\n",
       "    </tr>\n",
       "    <tr>\n",
       "      <th>3</th>\n",
       "      <td>0973b37acd0c664e3de26e97e5571454</td>\n",
       "      <td>2016-03-25 22:59:23 +0000</td>\n",
       "      <td>http://www.flipkart.com/alisha-solid-women-s-c...</td>\n",
       "      <td>Alisha Solid Women's Cycling Shorts</td>\n",
       "      <td>[\"Clothing &gt;&gt; Women's Clothing &gt;&gt; Lingerie, Sl...</td>\n",
       "      <td>SRTEH2F6HUZMQ6SJ</td>\n",
       "      <td>699.0</td>\n",
       "      <td>267.0</td>\n",
       "      <td>[\"http://img5a.flixcart.com/image/short/6/2/h/...</td>\n",
       "      <td>False</td>\n",
       "      <td>Key Features of Alisha Solid Women's Cycling S...</td>\n",
       "      <td>No rating available</td>\n",
       "      <td>No rating available</td>\n",
       "      <td>Alisha</td>\n",
       "      <td>{\"product_specification\"=&gt;[{\"key\"=&gt;\"Number of ...</td>\n",
       "    </tr>\n",
       "    <tr>\n",
       "      <th>4</th>\n",
       "      <td>bc940ea42ee6bef5ac7cea3fb5cfbee7</td>\n",
       "      <td>2016-03-25 22:59:23 +0000</td>\n",
       "      <td>http://www.flipkart.com/sicons-all-purpose-arn...</td>\n",
       "      <td>Sicons All Purpose Arnica Dog Shampoo</td>\n",
       "      <td>[\"Pet Supplies &gt;&gt; Grooming &gt;&gt; Skin &amp; Coat Care...</td>\n",
       "      <td>PSOEH3ZYDMSYARJ5</td>\n",
       "      <td>220.0</td>\n",
       "      <td>210.0</td>\n",
       "      <td>[\"http://img5a.flixcart.com/image/pet-shampoo/...</td>\n",
       "      <td>False</td>\n",
       "      <td>Specifications of Sicons All Purpose Arnica Do...</td>\n",
       "      <td>No rating available</td>\n",
       "      <td>No rating available</td>\n",
       "      <td>Sicons</td>\n",
       "      <td>{\"product_specification\"=&gt;[{\"key\"=&gt;\"Pet Type\",...</td>\n",
       "    </tr>\n",
       "  </tbody>\n",
       "</table>\n",
       "</div>"
      ],
      "text/plain": [
       "                            uniq_id            crawl_timestamp  \\\n",
       "0  c2d766ca982eca8304150849735ffef9  2016-03-25 22:59:23 +0000   \n",
       "1  7f7036a6d550aaa89d34c77bd39a5e48  2016-03-25 22:59:23 +0000   \n",
       "2  f449ec65dcbc041b6ae5e6a32717d01b  2016-03-25 22:59:23 +0000   \n",
       "3  0973b37acd0c664e3de26e97e5571454  2016-03-25 22:59:23 +0000   \n",
       "4  bc940ea42ee6bef5ac7cea3fb5cfbee7  2016-03-25 22:59:23 +0000   \n",
       "\n",
       "                                         product_url  \\\n",
       "0  http://www.flipkart.com/alisha-solid-women-s-c...   \n",
       "1  http://www.flipkart.com/fabhomedecor-fabric-do...   \n",
       "2  http://www.flipkart.com/aw-bellies/p/itmeh4grg...   \n",
       "3  http://www.flipkart.com/alisha-solid-women-s-c...   \n",
       "4  http://www.flipkart.com/sicons-all-purpose-arn...   \n",
       "\n",
       "                            product_name  \\\n",
       "0    Alisha Solid Women's Cycling Shorts   \n",
       "1    FabHomeDecor Fabric Double Sofa Bed   \n",
       "2                             AW Bellies   \n",
       "3    Alisha Solid Women's Cycling Shorts   \n",
       "4  Sicons All Purpose Arnica Dog Shampoo   \n",
       "\n",
       "                               product_category_tree               pid  \\\n",
       "0  [\"Clothing >> Women's Clothing >> Lingerie, Sl...  SRTEH2FF9KEDEFGF   \n",
       "1  [\"Furniture >> Living Room Furniture >> Sofa B...  SBEEH3QGU7MFYJFY   \n",
       "2  [\"Footwear >> Women's Footwear >> Ballerinas >...  SHOEH4GRSUBJGZXE   \n",
       "3  [\"Clothing >> Women's Clothing >> Lingerie, Sl...  SRTEH2F6HUZMQ6SJ   \n",
       "4  [\"Pet Supplies >> Grooming >> Skin & Coat Care...  PSOEH3ZYDMSYARJ5   \n",
       "\n",
       "   retail_price  discounted_price  \\\n",
       "0         999.0             379.0   \n",
       "1       32157.0           22646.0   \n",
       "2         999.0             499.0   \n",
       "3         699.0             267.0   \n",
       "4         220.0             210.0   \n",
       "\n",
       "                                               image  is_FK_Advantage_product  \\\n",
       "0  [\"http://img5a.flixcart.com/image/short/u/4/a/...                    False   \n",
       "1  [\"http://img6a.flixcart.com/image/sofa-bed/j/f...                    False   \n",
       "2  [\"http://img5a.flixcart.com/image/shoe/7/z/z/r...                    False   \n",
       "3  [\"http://img5a.flixcart.com/image/short/6/2/h/...                    False   \n",
       "4  [\"http://img5a.flixcart.com/image/pet-shampoo/...                    False   \n",
       "\n",
       "                                         description       product_rating  \\\n",
       "0  Key Features of Alisha Solid Women's Cycling S...  No rating available   \n",
       "1  FabHomeDecor Fabric Double Sofa Bed (Finish Co...  No rating available   \n",
       "2  Key Features of AW Bellies Sandals Wedges Heel...  No rating available   \n",
       "3  Key Features of Alisha Solid Women's Cycling S...  No rating available   \n",
       "4  Specifications of Sicons All Purpose Arnica Do...  No rating available   \n",
       "\n",
       "        overall_rating         brand  \\\n",
       "0  No rating available        Alisha   \n",
       "1  No rating available  FabHomeDecor   \n",
       "2  No rating available            AW   \n",
       "3  No rating available        Alisha   \n",
       "4  No rating available        Sicons   \n",
       "\n",
       "                              product_specifications  \n",
       "0  {\"product_specification\"=>[{\"key\"=>\"Number of ...  \n",
       "1  {\"product_specification\"=>[{\"key\"=>\"Installati...  \n",
       "2  {\"product_specification\"=>[{\"key\"=>\"Ideal For\"...  \n",
       "3  {\"product_specification\"=>[{\"key\"=>\"Number of ...  \n",
       "4  {\"product_specification\"=>[{\"key\"=>\"Pet Type\",...  "
      ]
     },
     "execution_count": 5,
     "metadata": {},
     "output_type": "execute_result"
    }
   ],
   "source": [
    "flip.head()"
   ]
  },
  {
   "cell_type": "code",
   "execution_count": 6,
   "id": "bb48b212",
   "metadata": {},
   "outputs": [],
   "source": [
    "flip.drop(['uniq_id', 'crawl_timestamp', 'product_url', 'is_FK_Advantage_product', 'product_specifications'], axis=1, inplace=True)"
   ]
  },
  {
   "cell_type": "code",
   "execution_count": 7,
   "id": "8174159d",
   "metadata": {},
   "outputs": [
    {
     "data": {
      "text/plain": [
       "(20000, 10)"
      ]
     },
     "execution_count": 7,
     "metadata": {},
     "output_type": "execute_result"
    }
   ],
   "source": [
    "flip.shape"
   ]
  },
  {
   "cell_type": "code",
   "execution_count": 8,
   "id": "6ecf49b3",
   "metadata": {},
   "outputs": [
    {
     "data": {
      "text/plain": [
       "product_name                0\n",
       "product_category_tree       0\n",
       "pid                         0\n",
       "retail_price               78\n",
       "discounted_price           78\n",
       "image                       3\n",
       "description                 2\n",
       "product_rating              0\n",
       "overall_rating              0\n",
       "brand                    5864\n",
       "dtype: int64"
      ]
     },
     "execution_count": 8,
     "metadata": {},
     "output_type": "execute_result"
    }
   ],
   "source": [
    "flip.isna().sum()"
   ]
  },
  {
   "cell_type": "code",
   "execution_count": 9,
   "id": "6f1862f7",
   "metadata": {},
   "outputs": [],
   "source": [
    "flip.dropna(axis=0, inplace=True)"
   ]
  },
  {
   "cell_type": "code",
   "execution_count": 10,
   "id": "469fdb47",
   "metadata": {},
   "outputs": [
    {
     "data": {
      "text/plain": [
       "(14070, 10)"
      ]
     },
     "execution_count": 10,
     "metadata": {},
     "output_type": "execute_result"
    }
   ],
   "source": [
    "flip.shape"
   ]
  },
  {
   "cell_type": "code",
   "execution_count": 11,
   "id": "a8e773cf",
   "metadata": {},
   "outputs": [
    {
     "data": {
      "text/plain": [
       "No rating available    13152\n",
       "5                        339\n",
       "4                        114\n",
       "1                         91\n",
       "3                         71\n",
       "2                         31\n",
       "4.2                       31\n",
       "4.5                       25\n",
       "3.7                       23\n",
       "4.3                       21\n",
       "3.5                       18\n",
       "2.5                       16\n",
       "3.6                       13\n",
       "3.8                       11\n",
       "4.8                       11\n",
       "4.1                       11\n",
       "3.2                       10\n",
       "2.3                       10\n",
       "4.4                        9\n",
       "3.9                        8\n",
       "3.3                        8\n",
       "3.4                        7\n",
       "4.7                        7\n",
       "4.6                        5\n",
       "2.8                        4\n",
       "2.7                        3\n",
       "2.9                        3\n",
       "4.9                        3\n",
       "2.4                        3\n",
       "2.2                        3\n",
       "1.5                        2\n",
       "1.3                        2\n",
       "3.1                        2\n",
       "1.7                        1\n",
       "1.8                        1\n",
       "2.6                        1\n",
       "Name: product_rating, dtype: int64"
      ]
     },
     "execution_count": 11,
     "metadata": {},
     "output_type": "execute_result"
    }
   ],
   "source": [
    "flip.product_rating.value_counts()"
   ]
  },
  {
   "cell_type": "code",
   "execution_count": 12,
   "id": "94a75529",
   "metadata": {},
   "outputs": [
    {
     "data": {
      "text/plain": [
       "4777"
      ]
     },
     "execution_count": 12,
     "metadata": {},
     "output_type": "execute_result"
    }
   ],
   "source": [
    "flip.product_category_tree.nunique()"
   ]
  },
  {
   "cell_type": "code",
   "execution_count": 13,
   "id": "8c8badd6",
   "metadata": {},
   "outputs": [],
   "source": [
    "flip.columns = ['name', 'category', 'pid', 'price', 'discounted_price', 'image', 'description', 'product_rating', 'overall_rating', 'brand']"
   ]
  },
  {
   "cell_type": "code",
   "execution_count": 14,
   "id": "19ec2fc5",
   "metadata": {},
   "outputs": [
    {
     "data": {
      "text/plain": [
       "'[\"Clothing >> Women\\'s Clothing >> Lingerie, Sleep & Swimwear >> Shorts >> Alisha Shorts >> Alisha Solid Women\\'s Cycling Shorts\"]'"
      ]
     },
     "execution_count": 14,
     "metadata": {},
     "output_type": "execute_result"
    }
   ],
   "source": [
    "flip.category[0]"
   ]
  },
  {
   "cell_type": "markdown",
   "id": "105317da",
   "metadata": {},
   "source": [
    "## <font color='Grey'> Getting image url </font>"
   ]
  },
  {
   "cell_type": "code",
   "execution_count": 15,
   "id": "a5dcb101",
   "metadata": {},
   "outputs": [],
   "source": [
    "image = flip.image[5]"
   ]
  },
  {
   "cell_type": "code",
   "execution_count": 16,
   "id": "729af88d",
   "metadata": {},
   "outputs": [
    {
     "data": {
      "text/plain": [
       "'[\"http://img5a.flixcart.com/image/paper-weight/u/e/3/eternal-gandhi-gandhi-paper-weight-mark-v-1100x1100-imaeb8adyf3xmqhf.jpeg\", \"http://img5a.flixcart.com/image/paper-weight/u/e/3/eternal-gandhi-gandhi-paper-weight-mark-v-original-imaeb8adyf3xmqhf.jpeg\"]'"
      ]
     },
     "execution_count": 16,
     "metadata": {},
     "output_type": "execute_result"
    }
   ],
   "source": [
    "image"
   ]
  },
  {
   "cell_type": "code",
   "execution_count": 17,
   "id": "d60d7976",
   "metadata": {},
   "outputs": [],
   "source": [
    "images = flip.image.apply(lambda x: x.replace('[', '').replace(']', '').replace('\"', '').split(',')[0])"
   ]
  },
  {
   "cell_type": "code",
   "execution_count": 18,
   "id": "697a5bcf",
   "metadata": {},
   "outputs": [],
   "source": [
    "flip.image = images"
   ]
  },
  {
   "cell_type": "markdown",
   "id": "0522bba1",
   "metadata": {},
   "source": [
    "## <font color='Grey'> Getting Products related to artists category </font>"
   ]
  },
  {
   "cell_type": "code",
   "execution_count": 19,
   "id": "a57bd388",
   "metadata": {},
   "outputs": [],
   "source": [
    "categories = flip.category"
   ]
  },
  {
   "cell_type": "code",
   "execution_count": 20,
   "id": "3bcf9659",
   "metadata": {},
   "outputs": [],
   "source": [
    "IsPainting = [True  if 'Painting' in x or 'painting' in x else False for x in categories]\n"
   ]
  },
  {
   "cell_type": "code",
   "execution_count": 21,
   "id": "252fc346",
   "metadata": {},
   "outputs": [],
   "source": [
    "paintings = flip[IsPainting]"
   ]
  },
  {
   "cell_type": "code",
   "execution_count": 22,
   "id": "1754373f",
   "metadata": {},
   "outputs": [
    {
     "data": {
      "text/plain": [
       "(52, 10)"
      ]
     },
     "execution_count": 22,
     "metadata": {},
     "output_type": "execute_result"
    }
   ],
   "source": [
    "paintings.shape"
   ]
  },
  {
   "cell_type": "code",
   "execution_count": 23,
   "id": "9ccae355",
   "metadata": {},
   "outputs": [],
   "source": [
    "IsShowpiece = [True  if 'Showpiece' in x else False for x in categories]\n",
    "showpieces = flip[IsShowpiece]"
   ]
  },
  {
   "cell_type": "code",
   "execution_count": 24,
   "id": "49411bdd",
   "metadata": {},
   "outputs": [
    {
     "data": {
      "text/plain": [
       "(443, 10)"
      ]
     },
     "execution_count": 24,
     "metadata": {},
     "output_type": "execute_result"
    }
   ],
   "source": [
    "showpieces.shape"
   ]
  },
  {
   "cell_type": "code",
   "execution_count": 25,
   "id": "69fe5966",
   "metadata": {},
   "outputs": [],
   "source": [
    "IsHandicraft = [True  if 'Handicraft' in x else False for x in flip.description]\n",
    "handicrafts = flip[IsHandicraft]"
   ]
  },
  {
   "cell_type": "code",
   "execution_count": 26,
   "id": "3d35cb8b",
   "metadata": {},
   "outputs": [
    {
     "data": {
      "text/plain": [
       "(81, 10)"
      ]
     },
     "execution_count": 26,
     "metadata": {},
     "output_type": "execute_result"
    }
   ],
   "source": [
    "handicrafts.shape"
   ]
  },
  {
   "cell_type": "code",
   "execution_count": 27,
   "id": "f12c38a1",
   "metadata": {},
   "outputs": [],
   "source": [
    "IsHandloom = [True  if 'Handloom' in x or 'handloom' in x else False for x in flip.description]\n",
    "Handloom = flip[IsHandloom]"
   ]
  },
  {
   "cell_type": "code",
   "execution_count": 28,
   "id": "552e23e9",
   "metadata": {},
   "outputs": [
    {
     "data": {
      "text/plain": [
       "(14, 10)"
      ]
     },
     "execution_count": 28,
     "metadata": {},
     "output_type": "execute_result"
    }
   ],
   "source": [
    "Handloom.shape"
   ]
  },
  {
   "cell_type": "code",
   "execution_count": 29,
   "id": "a88ab1ab",
   "metadata": {},
   "outputs": [],
   "source": [
    "from IPython.display import Image\n",
    "from IPython.core.display import HTML "
   ]
  },
  {
   "cell_type": "code",
   "execution_count": 30,
   "id": "1e488eec",
   "metadata": {},
   "outputs": [],
   "source": [
    "for image in Handloom.image:\n",
    "    Image(image)"
   ]
  },
  {
   "cell_type": "code",
   "execution_count": 31,
   "id": "4aa8de80",
   "metadata": {},
   "outputs": [],
   "source": [
    "final_products = Handloom"
   ]
  },
  {
   "cell_type": "code",
   "execution_count": 32,
   "id": "b1f8a52b",
   "metadata": {},
   "outputs": [
    {
     "data": {
      "text/html": [
       "<div>\n",
       "<style scoped>\n",
       "    .dataframe tbody tr th:only-of-type {\n",
       "        vertical-align: middle;\n",
       "    }\n",
       "\n",
       "    .dataframe tbody tr th {\n",
       "        vertical-align: top;\n",
       "    }\n",
       "\n",
       "    .dataframe thead th {\n",
       "        text-align: right;\n",
       "    }\n",
       "</style>\n",
       "<table border=\"1\" class=\"dataframe\">\n",
       "  <thead>\n",
       "    <tr style=\"text-align: right;\">\n",
       "      <th></th>\n",
       "      <th>name</th>\n",
       "      <th>category</th>\n",
       "      <th>pid</th>\n",
       "      <th>price</th>\n",
       "      <th>discounted_price</th>\n",
       "      <th>image</th>\n",
       "      <th>description</th>\n",
       "      <th>product_rating</th>\n",
       "      <th>overall_rating</th>\n",
       "      <th>brand</th>\n",
       "    </tr>\n",
       "  </thead>\n",
       "  <tbody>\n",
       "    <tr>\n",
       "      <th>943</th>\n",
       "      <td>MohanJodero Showpiece  -  46 cm</td>\n",
       "      <td>[\"Home Decor &amp; Festive Needs &gt;&gt; Showpieces &gt;&gt; ...</td>\n",
       "      <td>SHIEERWHHPMWHPWB</td>\n",
       "      <td>1599.0</td>\n",
       "      <td>999.0</td>\n",
       "      <td>http://img5a.flixcart.com/image/showpiece-figu...</td>\n",
       "      <td>Key Features of MohanJodero Showpiece  -  46 c...</td>\n",
       "      <td>No rating available</td>\n",
       "      <td>No rating available</td>\n",
       "      <td>MohanJodero</td>\n",
       "    </tr>\n",
       "    <tr>\n",
       "      <th>1130</th>\n",
       "      <td>Shoprider Casual Multicolor Genuine Leather Ca...</td>\n",
       "      <td>[\"Bags, Wallets &amp; Belts &gt;&gt; Wallets &amp; Clutches ...</td>\n",
       "      <td>CLTEJ5ZZUZKHHYDK</td>\n",
       "      <td>1999.0</td>\n",
       "      <td>289.0</td>\n",
       "      <td>http://img5a.flixcart.com/image/clutch/y/d/k/l...</td>\n",
       "      <td>Key Features of Shoprider Casual Multicolor Ge...</td>\n",
       "      <td>No rating available</td>\n",
       "      <td>No rating available</td>\n",
       "      <td>Shoprider</td>\n",
       "    </tr>\n",
       "    <tr>\n",
       "      <th>1135</th>\n",
       "      <td>Shoprider Casual Multicolor Genuine Leather Ca...</td>\n",
       "      <td>[\"Bags, Wallets &amp; Belts &gt;&gt; Wallets &amp; Clutches ...</td>\n",
       "      <td>CLTEJ5ZZGWBAZUWR</td>\n",
       "      <td>1999.0</td>\n",
       "      <td>289.0</td>\n",
       "      <td>http://img6a.flixcart.com/image/clutch/u/w/r/l...</td>\n",
       "      <td>Key Features of Shoprider Casual Multicolor Ge...</td>\n",
       "      <td>No rating available</td>\n",
       "      <td>No rating available</td>\n",
       "      <td>Shoprider</td>\n",
       "    </tr>\n",
       "    <tr>\n",
       "      <th>1154</th>\n",
       "      <td>Shoprider Casual Multicolor Genuine Leather Ca...</td>\n",
       "      <td>[\"Bags, Wallets &amp; Belts &gt;&gt; Wallets &amp; Clutches ...</td>\n",
       "      <td>CLTEJ5ZZMTBYXWZQ</td>\n",
       "      <td>1999.0</td>\n",
       "      <td>289.0</td>\n",
       "      <td>http://img6a.flixcart.com/image/clutch/w/z/q/l...</td>\n",
       "      <td>Key Features of Shoprider Casual Multicolor Ge...</td>\n",
       "      <td>No rating available</td>\n",
       "      <td>No rating available</td>\n",
       "      <td>Shoprider</td>\n",
       "    </tr>\n",
       "    <tr>\n",
       "      <th>1157</th>\n",
       "      <td>Shoprider Casual Multicolor Genuine Leather Ca...</td>\n",
       "      <td>[\"Bags, Wallets &amp; Belts &gt;&gt; Wallets &amp; Clutches ...</td>\n",
       "      <td>CLTEJ5ZZ4NDQF2MV</td>\n",
       "      <td>1999.0</td>\n",
       "      <td>289.0</td>\n",
       "      <td>http://img6a.flixcart.com/image/clutch/2/m/v/l...</td>\n",
       "      <td>Key Features of Shoprider Casual Multicolor Ge...</td>\n",
       "      <td>No rating available</td>\n",
       "      <td>No rating available</td>\n",
       "      <td>Shoprider</td>\n",
       "    </tr>\n",
       "  </tbody>\n",
       "</table>\n",
       "</div>"
      ],
      "text/plain": [
       "                                                   name  \\\n",
       "943                     MohanJodero Showpiece  -  46 cm   \n",
       "1130  Shoprider Casual Multicolor Genuine Leather Ca...   \n",
       "1135  Shoprider Casual Multicolor Genuine Leather Ca...   \n",
       "1154  Shoprider Casual Multicolor Genuine Leather Ca...   \n",
       "1157  Shoprider Casual Multicolor Genuine Leather Ca...   \n",
       "\n",
       "                                               category               pid  \\\n",
       "943   [\"Home Decor & Festive Needs >> Showpieces >> ...  SHIEERWHHPMWHPWB   \n",
       "1130  [\"Bags, Wallets & Belts >> Wallets & Clutches ...  CLTEJ5ZZUZKHHYDK   \n",
       "1135  [\"Bags, Wallets & Belts >> Wallets & Clutches ...  CLTEJ5ZZGWBAZUWR   \n",
       "1154  [\"Bags, Wallets & Belts >> Wallets & Clutches ...  CLTEJ5ZZMTBYXWZQ   \n",
       "1157  [\"Bags, Wallets & Belts >> Wallets & Clutches ...  CLTEJ5ZZ4NDQF2MV   \n",
       "\n",
       "       price  discounted_price  \\\n",
       "943   1599.0             999.0   \n",
       "1130  1999.0             289.0   \n",
       "1135  1999.0             289.0   \n",
       "1154  1999.0             289.0   \n",
       "1157  1999.0             289.0   \n",
       "\n",
       "                                                  image  \\\n",
       "943   http://img5a.flixcart.com/image/showpiece-figu...   \n",
       "1130  http://img5a.flixcart.com/image/clutch/y/d/k/l...   \n",
       "1135  http://img6a.flixcart.com/image/clutch/u/w/r/l...   \n",
       "1154  http://img6a.flixcart.com/image/clutch/w/z/q/l...   \n",
       "1157  http://img6a.flixcart.com/image/clutch/2/m/v/l...   \n",
       "\n",
       "                                            description       product_rating  \\\n",
       "943   Key Features of MohanJodero Showpiece  -  46 c...  No rating available   \n",
       "1130  Key Features of Shoprider Casual Multicolor Ge...  No rating available   \n",
       "1135  Key Features of Shoprider Casual Multicolor Ge...  No rating available   \n",
       "1154  Key Features of Shoprider Casual Multicolor Ge...  No rating available   \n",
       "1157  Key Features of Shoprider Casual Multicolor Ge...  No rating available   \n",
       "\n",
       "           overall_rating        brand  \n",
       "943   No rating available  MohanJodero  \n",
       "1130  No rating available    Shoprider  \n",
       "1135  No rating available    Shoprider  \n",
       "1154  No rating available    Shoprider  \n",
       "1157  No rating available    Shoprider  "
      ]
     },
     "execution_count": 32,
     "metadata": {},
     "output_type": "execute_result"
    }
   ],
   "source": [
    "handicrafts.head()"
   ]
  },
  {
   "cell_type": "code",
   "execution_count": 33,
   "id": "7af071f7",
   "metadata": {},
   "outputs": [],
   "source": [
    "for image in handicrafts.image:\n",
    "    Image(image)"
   ]
  },
  {
   "cell_type": "code",
   "execution_count": 34,
   "id": "b122cdc9",
   "metadata": {},
   "outputs": [],
   "source": [
    "final_products = final_products.append(handicrafts)"
   ]
  },
  {
   "cell_type": "code",
   "execution_count": 35,
   "id": "5e242cde",
   "metadata": {},
   "outputs": [],
   "source": [
    "final_products.reset_index(inplace=True, drop=True)"
   ]
  },
  {
   "cell_type": "code",
   "execution_count": 36,
   "id": "c6a5599c",
   "metadata": {},
   "outputs": [
    {
     "data": {
      "text/plain": [
       "(95, 10)"
      ]
     },
     "execution_count": 36,
     "metadata": {},
     "output_type": "execute_result"
    }
   ],
   "source": [
    "final_products.shape"
   ]
  },
  {
   "cell_type": "code",
   "execution_count": 37,
   "id": "6f5d4099",
   "metadata": {},
   "outputs": [],
   "source": [
    "indiamart = pd.read_csv('indiamart.csv')"
   ]
  },
  {
   "cell_type": "code",
   "execution_count": 38,
   "id": "510e901a",
   "metadata": {},
   "outputs": [
    {
     "data": {
      "text/plain": [
       "(11, 8)"
      ]
     },
     "execution_count": 38,
     "metadata": {},
     "output_type": "execute_result"
    }
   ],
   "source": [
    "indiamart.shape"
   ]
  },
  {
   "cell_type": "code",
   "execution_count": 39,
   "id": "037af426",
   "metadata": {},
   "outputs": [
    {
     "data": {
      "text/html": [
       "<div>\n",
       "<style scoped>\n",
       "    .dataframe tbody tr th:only-of-type {\n",
       "        vertical-align: middle;\n",
       "    }\n",
       "\n",
       "    .dataframe tbody tr th {\n",
       "        vertical-align: top;\n",
       "    }\n",
       "\n",
       "    .dataframe thead th {\n",
       "        text-align: right;\n",
       "    }\n",
       "</style>\n",
       "<table border=\"1\" class=\"dataframe\">\n",
       "  <thead>\n",
       "    <tr style=\"text-align: right;\">\n",
       "      <th></th>\n",
       "      <th>name</th>\n",
       "      <th>category</th>\n",
       "      <th>pid</th>\n",
       "      <th>price</th>\n",
       "      <th>image</th>\n",
       "      <th>description</th>\n",
       "      <th>rating</th>\n",
       "      <th>brand</th>\n",
       "    </tr>\n",
       "  </thead>\n",
       "  <tbody>\n",
       "    <tr>\n",
       "      <th>0</th>\n",
       "      <td>Indian Traditional Handicraft, For Decorative,...</td>\n",
       "      <td>Indian Handicrafts</td>\n",
       "      <td>24159926462</td>\n",
       "      <td>₹ 390</td>\n",
       "      <td>//5.imimg.com/data5/SELLER/Default/2021/11/BQ/...</td>\n",
       "      <td>Hand Weaven Sabai Grass Wall Plate</td>\n",
       "      <td>4.5</td>\n",
       "      <td>Sigmascott Private Limited</td>\n",
       "    </tr>\n",
       "    <tr>\n",
       "      <th>1</th>\n",
       "      <td>Indian Traditional Handicraft Golden Grass Tra...</td>\n",
       "      <td>Indian Handicrafts</td>\n",
       "      <td>24323869212</td>\n",
       "      <td>₹ 399</td>\n",
       "      <td>//5.imimg.com/data5/SELLER/Default/2021/12/VF/...</td>\n",
       "      <td>Durable and natural wicker material, environme...</td>\n",
       "      <td>4.5</td>\n",
       "      <td>Sigmascott Private Limited</td>\n",
       "    </tr>\n",
       "    <tr>\n",
       "      <th>2</th>\n",
       "      <td>Handmade Basket Weaving Indian Handicraft Supp...</td>\n",
       "      <td>Indian Handicrafts</td>\n",
       "      <td>24323811997</td>\n",
       "      <td>₹ 149</td>\n",
       "      <td>//5.imimg.com/data5/SELLER/Default/2021/12/IO/...</td>\n",
       "      <td>Durable and natural wicker material, environme...</td>\n",
       "      <td>4.5</td>\n",
       "      <td>Sigmascott Private Limited</td>\n",
       "    </tr>\n",
       "    <tr>\n",
       "      <th>3</th>\n",
       "      <td>Multicolor Wooden Elephant Statue Handmade Ena...</td>\n",
       "      <td>Indian Handicrafts</td>\n",
       "      <td>22761403673</td>\n",
       "      <td>₹ 610</td>\n",
       "      <td>//5.imimg.com/data5/SELLER/Default/2020/10/QM/...</td>\n",
       "      <td>Wooden Elephant showpiece is one great decor n...</td>\n",
       "      <td>4.1</td>\n",
       "      <td>Nirmala Handicrafts</td>\n",
       "    </tr>\n",
       "    <tr>\n",
       "      <th>4</th>\n",
       "      <td>Indian Handicrafts</td>\n",
       "      <td>Indian Handicrafts</td>\n",
       "      <td>23216707162</td>\n",
       "      <td>₹ 350</td>\n",
       "      <td>//5.imimg.com/data5/SELLER/Default/2021/3/RJ/L...</td>\n",
       "      <td>Baldhari Exports</td>\n",
       "      <td>4.5</td>\n",
       "      <td>Baldhari Exports</td>\n",
       "    </tr>\n",
       "  </tbody>\n",
       "</table>\n",
       "</div>"
      ],
      "text/plain": [
       "                                                name            category  \\\n",
       "0  Indian Traditional Handicraft, For Decorative,...  Indian Handicrafts   \n",
       "1  Indian Traditional Handicraft Golden Grass Tra...  Indian Handicrafts   \n",
       "2  Handmade Basket Weaving Indian Handicraft Supp...  Indian Handicrafts   \n",
       "3  Multicolor Wooden Elephant Statue Handmade Ena...  Indian Handicrafts   \n",
       "4                                 Indian Handicrafts  Indian Handicrafts   \n",
       "\n",
       "           pid  price                                              image  \\\n",
       "0  24159926462  ₹ 390  //5.imimg.com/data5/SELLER/Default/2021/11/BQ/...   \n",
       "1  24323869212  ₹ 399  //5.imimg.com/data5/SELLER/Default/2021/12/VF/...   \n",
       "2  24323811997  ₹ 149  //5.imimg.com/data5/SELLER/Default/2021/12/IO/...   \n",
       "3  22761403673  ₹ 610  //5.imimg.com/data5/SELLER/Default/2020/10/QM/...   \n",
       "4  23216707162  ₹ 350  //5.imimg.com/data5/SELLER/Default/2021/3/RJ/L...   \n",
       "\n",
       "                                         description  rating  \\\n",
       "0                 Hand Weaven Sabai Grass Wall Plate     4.5   \n",
       "1  Durable and natural wicker material, environme...     4.5   \n",
       "2  Durable and natural wicker material, environme...     4.5   \n",
       "3  Wooden Elephant showpiece is one great decor n...     4.1   \n",
       "4                                   Baldhari Exports     4.5   \n",
       "\n",
       "                        brand  \n",
       "0  Sigmascott Private Limited  \n",
       "1  Sigmascott Private Limited  \n",
       "2  Sigmascott Private Limited  \n",
       "3         Nirmala Handicrafts  \n",
       "4            Baldhari Exports  "
      ]
     },
     "execution_count": 39,
     "metadata": {},
     "output_type": "execute_result"
    }
   ],
   "source": [
    "indiamart.head()"
   ]
  },
  {
   "cell_type": "code",
   "execution_count": 42,
   "id": "184aec26",
   "metadata": {},
   "outputs": [
    {
     "data": {
      "text/plain": [
       "product_rating       overall_rating     \n",
       "No rating available  No rating available    91\n",
       "5                    5                       3\n",
       "4.2                  4.2                     1\n",
       "dtype: int64"
      ]
     },
     "execution_count": 42,
     "metadata": {},
     "output_type": "execute_result"
    }
   ],
   "source": [
    "final_products[['product_rating', 'overall_rating']].value_counts()"
   ]
  },
  {
   "cell_type": "code",
   "execution_count": 48,
   "id": "f7f52aa8",
   "metadata": {},
   "outputs": [],
   "source": [
    "import random\n",
    "ratings = [random.randrange(28, 50)/10 for _ in range(95)]"
   ]
  },
  {
   "cell_type": "code",
   "execution_count": 49,
   "id": "579a9665",
   "metadata": {},
   "outputs": [],
   "source": [
    "final_products['rating'] = ratings"
   ]
  },
  {
   "cell_type": "code",
   "execution_count": 50,
   "id": "f9270587",
   "metadata": {},
   "outputs": [],
   "source": [
    "final_products.drop(['discounted_price', 'product_rating', 'overall_rating'], axis=1, inplace=True)"
   ]
  },
  {
   "cell_type": "code",
   "execution_count": 51,
   "id": "a01358e3",
   "metadata": {},
   "outputs": [
    {
     "data": {
      "text/html": [
       "<div>\n",
       "<style scoped>\n",
       "    .dataframe tbody tr th:only-of-type {\n",
       "        vertical-align: middle;\n",
       "    }\n",
       "\n",
       "    .dataframe tbody tr th {\n",
       "        vertical-align: top;\n",
       "    }\n",
       "\n",
       "    .dataframe thead th {\n",
       "        text-align: right;\n",
       "    }\n",
       "</style>\n",
       "<table border=\"1\" class=\"dataframe\">\n",
       "  <thead>\n",
       "    <tr style=\"text-align: right;\">\n",
       "      <th></th>\n",
       "      <th>name</th>\n",
       "      <th>category</th>\n",
       "      <th>pid</th>\n",
       "      <th>price</th>\n",
       "      <th>image</th>\n",
       "      <th>description</th>\n",
       "      <th>brand</th>\n",
       "      <th>rating</th>\n",
       "    </tr>\n",
       "  </thead>\n",
       "  <tbody>\n",
       "    <tr>\n",
       "      <th>0</th>\n",
       "      <td>cotton leaf Floral Single Blanket 104</td>\n",
       "      <td>[\"Home Furnishing &gt;&gt; Bed Linen &gt;&gt; Blankets, Qu...</td>\n",
       "      <td>BLAEEGQXXXKECK8Y</td>\n",
       "      <td>1999.0</td>\n",
       "      <td>http://img6a.flixcart.com/image/blanket/k/8/y/...</td>\n",
       "      <td>cotton leaf Floral Single Blanket 104 (1 Authe...</td>\n",
       "      <td>cotton leaf</td>\n",
       "      <td>2.8</td>\n",
       "    </tr>\n",
       "    <tr>\n",
       "      <th>1</th>\n",
       "      <td>Handloom Hut Polyester Pista (Green) Crush Sol...</td>\n",
       "      <td>[\"Home Furnishing &gt;&gt; Curtains &amp; Accessories &gt;&gt;...</td>\n",
       "      <td>CRNEBPU6HFFUHQQA</td>\n",
       "      <td>1599.0</td>\n",
       "      <td>http://img5a.flixcart.com/image/curtain/g/r/d/...</td>\n",
       "      <td>Buy Handloom Hut Polyester Pista (Green) Crush...</td>\n",
       "      <td>Handloom Hut</td>\n",
       "      <td>2.8</td>\n",
       "    </tr>\n",
       "    <tr>\n",
       "      <th>2</th>\n",
       "      <td>Handloomhub Polyester Pink Floral Eyelet Door ...</td>\n",
       "      <td>[\"Home Furnishing &gt;&gt; Curtains &amp; Accessories &gt;&gt;...</td>\n",
       "      <td>CRNEDGD2AF33BHNZ</td>\n",
       "      <td>799.0</td>\n",
       "      <td>http://img6a.flixcart.com/image/curtain/2/6/m/...</td>\n",
       "      <td>Buy Handloomhub Polyester Pink Floral Eyelet D...</td>\n",
       "      <td>Handloomhub</td>\n",
       "      <td>4.5</td>\n",
       "    </tr>\n",
       "    <tr>\n",
       "      <th>3</th>\n",
       "      <td>Handloomhub Polyester Light Blue Self Design E...</td>\n",
       "      <td>[\"Home Furnishing &gt;&gt; Curtains &amp; Accessories &gt;&gt;...</td>\n",
       "      <td>CRNEDX7NPUEWFFAG</td>\n",
       "      <td>1499.0</td>\n",
       "      <td>http://img6a.flixcart.com/image/curtain/n/6/g/...</td>\n",
       "      <td>Buy Handloomhub Polyester Light Blue Self Desi...</td>\n",
       "      <td>Handloomhub</td>\n",
       "      <td>3.0</td>\n",
       "    </tr>\n",
       "    <tr>\n",
       "      <th>4</th>\n",
       "      <td>Handloomhub Polyester Pink Self Design Eyelet ...</td>\n",
       "      <td>[\"Home Furnishing &gt;&gt; Curtains &amp; Accessories &gt;&gt;...</td>\n",
       "      <td>CRNEDX67ACJHFGNT</td>\n",
       "      <td>1499.0</td>\n",
       "      <td>http://img5a.flixcart.com/image/curtain/k/t/c/...</td>\n",
       "      <td>Buy Handloomhub Polyester Pink Self Design Eye...</td>\n",
       "      <td>Handloomhub</td>\n",
       "      <td>4.1</td>\n",
       "    </tr>\n",
       "  </tbody>\n",
       "</table>\n",
       "</div>"
      ],
      "text/plain": [
       "                                                name  \\\n",
       "0              cotton leaf Floral Single Blanket 104   \n",
       "1  Handloom Hut Polyester Pista (Green) Crush Sol...   \n",
       "2  Handloomhub Polyester Pink Floral Eyelet Door ...   \n",
       "3  Handloomhub Polyester Light Blue Self Design E...   \n",
       "4  Handloomhub Polyester Pink Self Design Eyelet ...   \n",
       "\n",
       "                                            category               pid  \\\n",
       "0  [\"Home Furnishing >> Bed Linen >> Blankets, Qu...  BLAEEGQXXXKECK8Y   \n",
       "1  [\"Home Furnishing >> Curtains & Accessories >>...  CRNEBPU6HFFUHQQA   \n",
       "2  [\"Home Furnishing >> Curtains & Accessories >>...  CRNEDGD2AF33BHNZ   \n",
       "3  [\"Home Furnishing >> Curtains & Accessories >>...  CRNEDX7NPUEWFFAG   \n",
       "4  [\"Home Furnishing >> Curtains & Accessories >>...  CRNEDX67ACJHFGNT   \n",
       "\n",
       "    price                                              image  \\\n",
       "0  1999.0  http://img6a.flixcart.com/image/blanket/k/8/y/...   \n",
       "1  1599.0  http://img5a.flixcart.com/image/curtain/g/r/d/...   \n",
       "2   799.0  http://img6a.flixcart.com/image/curtain/2/6/m/...   \n",
       "3  1499.0  http://img6a.flixcart.com/image/curtain/n/6/g/...   \n",
       "4  1499.0  http://img5a.flixcart.com/image/curtain/k/t/c/...   \n",
       "\n",
       "                                         description         brand  rating  \n",
       "0  cotton leaf Floral Single Blanket 104 (1 Authe...   cotton leaf     2.8  \n",
       "1  Buy Handloom Hut Polyester Pista (Green) Crush...  Handloom Hut     2.8  \n",
       "2  Buy Handloomhub Polyester Pink Floral Eyelet D...   Handloomhub     4.5  \n",
       "3  Buy Handloomhub Polyester Light Blue Self Desi...   Handloomhub     3.0  \n",
       "4  Buy Handloomhub Polyester Pink Self Design Eye...   Handloomhub     4.1  "
      ]
     },
     "execution_count": 51,
     "metadata": {},
     "output_type": "execute_result"
    }
   ],
   "source": [
    "final_products.head()"
   ]
  },
  {
   "cell_type": "code",
   "execution_count": 60,
   "id": "c663326a",
   "metadata": {},
   "outputs": [],
   "source": [
    "categories = final_products['category'].apply(lambda x: x.replace('[', '').replace(']', '').replace('\"', '').split('>>')[-1])"
   ]
  },
  {
   "cell_type": "code",
   "execution_count": 62,
   "id": "c95f1fc5",
   "metadata": {},
   "outputs": [],
   "source": [
    "final_products.category = categories"
   ]
  },
  {
   "cell_type": "code",
   "execution_count": 63,
   "id": "bf98e5e7",
   "metadata": {},
   "outputs": [
    {
     "data": {
      "text/plain": [
       "0                             Blankets, Quilts & Dohars\n",
       "1                                              Curtains\n",
       "2                                              Curtains\n",
       "3                                              Curtains\n",
       "4                                              Curtains\n",
       "                            ...                        \n",
       "90     Ethnic Handicrafts Solid Wood Queen Bed (Fini...\n",
       "91     Ethnic Handicrafts Solid Wood Single Bed (Fin...\n",
       "92                              Aakrati Human Figurines\n",
       "93     Anshuhandicrafts ASHCF125 Showpiece  -  13.97...\n",
       "94     Anshuhandicrafts ASHCF133 Showpiece  -  6.35 ...\n",
       "Name: category, Length: 95, dtype: object"
      ]
     },
     "execution_count": 63,
     "metadata": {},
     "output_type": "execute_result"
    }
   ],
   "source": [
    "final_products.category"
   ]
  },
  {
   "cell_type": "code",
   "execution_count": 64,
   "id": "06437e44",
   "metadata": {},
   "outputs": [
    {
     "data": {
      "text/plain": [
       "name            object\n",
       "category        object\n",
       "pid              int64\n",
       "price           object\n",
       "image           object\n",
       "description     object\n",
       "rating         float64\n",
       "brand           object\n",
       "dtype: object"
      ]
     },
     "execution_count": 64,
     "metadata": {},
     "output_type": "execute_result"
    }
   ],
   "source": [
    "indiamart.dtype"
   ]
  },
  {
   "cell_type": "code",
   "execution_count": 65,
   "id": "2bf2cf58",
   "metadata": {},
   "outputs": [
    {
     "data": {
      "text/plain": [
       "name            object\n",
       "category        object\n",
       "pid             object\n",
       "price          float64\n",
       "image           object\n",
       "description     object\n",
       "brand           object\n",
       "rating         float64\n",
       "dtype: object"
      ]
     },
     "execution_count": 65,
     "metadata": {},
     "output_type": "execute_result"
    }
   ],
   "source": [
    "final_products.dtypes"
   ]
  },
  {
   "cell_type": "code",
   "execution_count": 67,
   "id": "fa440eda",
   "metadata": {},
   "outputs": [],
   "source": [
    "indiamart.price = indiamart.price.apply(lambda x: x.replace('₹', '').replace(',', '')).astype('float64')"
   ]
  },
  {
   "cell_type": "code",
   "execution_count": 68,
   "id": "7a8150e5",
   "metadata": {},
   "outputs": [
    {
     "data": {
      "text/plain": [
       "0      390.0\n",
       "1      399.0\n",
       "2      149.0\n",
       "3      610.0\n",
       "4      350.0\n",
       "5     2000.0\n",
       "6      290.0\n",
       "7     3000.0\n",
       "8      280.0\n",
       "9      250.0\n",
       "10    2100.0\n",
       "Name: price, dtype: float64"
      ]
     },
     "execution_count": 68,
     "metadata": {},
     "output_type": "execute_result"
    }
   ],
   "source": [
    "indiamart.price"
   ]
  },
  {
   "cell_type": "code",
   "execution_count": 69,
   "id": "eb813d9d",
   "metadata": {},
   "outputs": [],
   "source": [
    "final_products = final_products.append(indiamart, ignore_index=True)"
   ]
  },
  {
   "cell_type": "code",
   "execution_count": 70,
   "id": "9b045714",
   "metadata": {},
   "outputs": [
    {
     "data": {
      "text/html": [
       "<div>\n",
       "<style scoped>\n",
       "    .dataframe tbody tr th:only-of-type {\n",
       "        vertical-align: middle;\n",
       "    }\n",
       "\n",
       "    .dataframe tbody tr th {\n",
       "        vertical-align: top;\n",
       "    }\n",
       "\n",
       "    .dataframe thead th {\n",
       "        text-align: right;\n",
       "    }\n",
       "</style>\n",
       "<table border=\"1\" class=\"dataframe\">\n",
       "  <thead>\n",
       "    <tr style=\"text-align: right;\">\n",
       "      <th></th>\n",
       "      <th>name</th>\n",
       "      <th>category</th>\n",
       "      <th>pid</th>\n",
       "      <th>price</th>\n",
       "      <th>image</th>\n",
       "      <th>description</th>\n",
       "      <th>brand</th>\n",
       "      <th>rating</th>\n",
       "    </tr>\n",
       "  </thead>\n",
       "  <tbody>\n",
       "    <tr>\n",
       "      <th>0</th>\n",
       "      <td>cotton leaf Floral Single Blanket 104</td>\n",
       "      <td>Blankets, Quilts &amp; Dohars</td>\n",
       "      <td>BLAEEGQXXXKECK8Y</td>\n",
       "      <td>1999.0</td>\n",
       "      <td>http://img6a.flixcart.com/image/blanket/k/8/y/...</td>\n",
       "      <td>cotton leaf Floral Single Blanket 104 (1 Authe...</td>\n",
       "      <td>cotton leaf</td>\n",
       "      <td>2.8</td>\n",
       "    </tr>\n",
       "    <tr>\n",
       "      <th>1</th>\n",
       "      <td>Handloom Hut Polyester Pista (Green) Crush Sol...</td>\n",
       "      <td>Curtains</td>\n",
       "      <td>CRNEBPU6HFFUHQQA</td>\n",
       "      <td>1599.0</td>\n",
       "      <td>http://img5a.flixcart.com/image/curtain/g/r/d/...</td>\n",
       "      <td>Buy Handloom Hut Polyester Pista (Green) Crush...</td>\n",
       "      <td>Handloom Hut</td>\n",
       "      <td>2.8</td>\n",
       "    </tr>\n",
       "    <tr>\n",
       "      <th>2</th>\n",
       "      <td>Handloomhub Polyester Pink Floral Eyelet Door ...</td>\n",
       "      <td>Curtains</td>\n",
       "      <td>CRNEDGD2AF33BHNZ</td>\n",
       "      <td>799.0</td>\n",
       "      <td>http://img6a.flixcart.com/image/curtain/2/6/m/...</td>\n",
       "      <td>Buy Handloomhub Polyester Pink Floral Eyelet D...</td>\n",
       "      <td>Handloomhub</td>\n",
       "      <td>4.5</td>\n",
       "    </tr>\n",
       "    <tr>\n",
       "      <th>3</th>\n",
       "      <td>Handloomhub Polyester Light Blue Self Design E...</td>\n",
       "      <td>Curtains</td>\n",
       "      <td>CRNEDX7NPUEWFFAG</td>\n",
       "      <td>1499.0</td>\n",
       "      <td>http://img6a.flixcart.com/image/curtain/n/6/g/...</td>\n",
       "      <td>Buy Handloomhub Polyester Light Blue Self Desi...</td>\n",
       "      <td>Handloomhub</td>\n",
       "      <td>3.0</td>\n",
       "    </tr>\n",
       "    <tr>\n",
       "      <th>4</th>\n",
       "      <td>Handloomhub Polyester Pink Self Design Eyelet ...</td>\n",
       "      <td>Curtains</td>\n",
       "      <td>CRNEDX67ACJHFGNT</td>\n",
       "      <td>1499.0</td>\n",
       "      <td>http://img5a.flixcart.com/image/curtain/k/t/c/...</td>\n",
       "      <td>Buy Handloomhub Polyester Pink Self Design Eye...</td>\n",
       "      <td>Handloomhub</td>\n",
       "      <td>4.1</td>\n",
       "    </tr>\n",
       "    <tr>\n",
       "      <th>...</th>\n",
       "      <td>...</td>\n",
       "      <td>...</td>\n",
       "      <td>...</td>\n",
       "      <td>...</td>\n",
       "      <td>...</td>\n",
       "      <td>...</td>\n",
       "      <td>...</td>\n",
       "      <td>...</td>\n",
       "    </tr>\n",
       "    <tr>\n",
       "      <th>101</th>\n",
       "      <td>TWG Handicraft Mix Polyresin Decorative Ashirw...</td>\n",
       "      <td>Buddha Statue</td>\n",
       "      <td>16310583730</td>\n",
       "      <td>290.0</td>\n",
       "      <td>//5.imimg.com/data5/SELLER/Default/2021/4/SR/S...</td>\n",
       "      <td>We are India's Trusted Manufacturer of Innovat...</td>\n",
       "      <td>TWG HANDICRAFT</td>\n",
       "      <td>3.7</td>\n",
       "    </tr>\n",
       "    <tr>\n",
       "      <th>102</th>\n",
       "      <td>Madhubani Hand Painted Pure Tussar Silk Long D...</td>\n",
       "      <td>Tussar Silk Dupatta</td>\n",
       "      <td>24798317212</td>\n",
       "      <td>3000.0</td>\n",
       "      <td>//5.imimg.com/data5/SELLER/Default/2022/2/SX/V...</td>\n",
       "      <td>Explore the collection of beautifully designed...</td>\n",
       "      <td>Manisha Silk  Weaves</td>\n",
       "      <td>4.6</td>\n",
       "    </tr>\n",
       "    <tr>\n",
       "      <th>103</th>\n",
       "      <td>Silk Embroidery Dupatta</td>\n",
       "      <td>Dupattas</td>\n",
       "      <td>21512930633</td>\n",
       "      <td>280.0</td>\n",
       "      <td>//5.imimg.com/data5/XU/OY/AC/ANDROID-38167341/...</td>\n",
       "      <td>Pire cotton silk dupatta best quality golden z...</td>\n",
       "      <td>N. M. Enterprises</td>\n",
       "      <td>4.6</td>\n",
       "    </tr>\n",
       "    <tr>\n",
       "      <th>104</th>\n",
       "      <td>Sami Gota Work Bandani silk duppta</td>\n",
       "      <td>Silk Dupatta</td>\n",
       "      <td>22446610291</td>\n",
       "      <td>250.0</td>\n",
       "      <td>//5.imimg.com/data5/RU/EB/ZU/ANDROID-9025741/p...</td>\n",
       "      <td>Bandani gotta patti work duppta</td>\n",
       "      <td>Maviss Fashion</td>\n",
       "      <td>5.0</td>\n",
       "    </tr>\n",
       "    <tr>\n",
       "      <th>105</th>\n",
       "      <td>TWG Handicraft Multicolor Meditating Buddha St...</td>\n",
       "      <td>Buddha Statue</td>\n",
       "      <td>16313158088</td>\n",
       "      <td>2100.0</td>\n",
       "      <td>//5.imimg.com/data5/SELLER/Default/2021/4/EV/M...</td>\n",
       "      <td>We are Best Known Manufacturer of Innovative V...</td>\n",
       "      <td>TWG HANDICRAFT</td>\n",
       "      <td>3.7</td>\n",
       "    </tr>\n",
       "  </tbody>\n",
       "</table>\n",
       "<p>106 rows × 8 columns</p>\n",
       "</div>"
      ],
      "text/plain": [
       "                                                  name                    category               pid   price                                              image                                        description                 brand  rating\n",
       "0                cotton leaf Floral Single Blanket 104   Blankets, Quilts & Dohars  BLAEEGQXXXKECK8Y  1999.0  http://img6a.flixcart.com/image/blanket/k/8/y/...  cotton leaf Floral Single Blanket 104 (1 Authe...           cotton leaf     2.8\n",
       "1    Handloom Hut Polyester Pista (Green) Crush Sol...                    Curtains  CRNEBPU6HFFUHQQA  1599.0  http://img5a.flixcart.com/image/curtain/g/r/d/...  Buy Handloom Hut Polyester Pista (Green) Crush...          Handloom Hut     2.8\n",
       "2    Handloomhub Polyester Pink Floral Eyelet Door ...                    Curtains  CRNEDGD2AF33BHNZ   799.0  http://img6a.flixcart.com/image/curtain/2/6/m/...  Buy Handloomhub Polyester Pink Floral Eyelet D...           Handloomhub     4.5\n",
       "3    Handloomhub Polyester Light Blue Self Design E...                    Curtains  CRNEDX7NPUEWFFAG  1499.0  http://img6a.flixcart.com/image/curtain/n/6/g/...  Buy Handloomhub Polyester Light Blue Self Desi...           Handloomhub     3.0\n",
       "4    Handloomhub Polyester Pink Self Design Eyelet ...                    Curtains  CRNEDX67ACJHFGNT  1499.0  http://img5a.flixcart.com/image/curtain/k/t/c/...  Buy Handloomhub Polyester Pink Self Design Eye...           Handloomhub     4.1\n",
       "..                                                 ...                         ...               ...     ...                                                ...                                                ...                   ...     ...\n",
       "101  TWG Handicraft Mix Polyresin Decorative Ashirw...               Buddha Statue       16310583730   290.0  //5.imimg.com/data5/SELLER/Default/2021/4/SR/S...  We are India's Trusted Manufacturer of Innovat...        TWG HANDICRAFT     3.7\n",
       "102  Madhubani Hand Painted Pure Tussar Silk Long D...         Tussar Silk Dupatta       24798317212  3000.0  //5.imimg.com/data5/SELLER/Default/2022/2/SX/V...  Explore the collection of beautifully designed...  Manisha Silk  Weaves     4.6\n",
       "103                            Silk Embroidery Dupatta                    Dupattas       21512930633   280.0  //5.imimg.com/data5/XU/OY/AC/ANDROID-38167341/...  Pire cotton silk dupatta best quality golden z...     N. M. Enterprises     4.6\n",
       "104                 Sami Gota Work Bandani silk duppta                Silk Dupatta       22446610291   250.0  //5.imimg.com/data5/RU/EB/ZU/ANDROID-9025741/p...                    Bandani gotta patti work duppta        Maviss Fashion     5.0\n",
       "105  TWG Handicraft Multicolor Meditating Buddha St...               Buddha Statue       16313158088  2100.0  //5.imimg.com/data5/SELLER/Default/2021/4/EV/M...  We are Best Known Manufacturer of Innovative V...        TWG HANDICRAFT     3.7\n",
       "\n",
       "[106 rows x 8 columns]"
      ]
     },
     "execution_count": 70,
     "metadata": {},
     "output_type": "execute_result"
    }
   ],
   "source": [
    "final_products"
   ]
  },
  {
   "cell_type": "code",
   "execution_count": 75,
   "id": "dc5075b4",
   "metadata": {},
   "outputs": [
    {
     "data": {
      "text/plain": [
       "'//5.imimg.com/data5/SELLER/Default/2021/11/BQ/CO/YY/77706935/p9-500x500.png'"
      ]
     },
     "execution_count": 75,
     "metadata": {},
     "output_type": "execute_result"
    }
   ],
   "source": [
    "indiamart.image[0]"
   ]
  },
  {
   "cell_type": "code",
   "execution_count": 77,
   "id": "e1b2754c",
   "metadata": {},
   "outputs": [],
   "source": [
    "import string\n",
    "def ran_gen(size, chars=string.ascii_uppercase + string.digits):\n",
    "    return ''.join(random.choice(chars) for x in range(size))\n",
    "pids = [ran_gen(8, 'AEIOUNKSB69') for x in range(final_products.shape[0])]"
   ]
  },
  {
   "cell_type": "code",
   "execution_count": 79,
   "id": "05eb0b44",
   "metadata": {},
   "outputs": [],
   "source": [
    "final_products.pid = pids"
   ]
  },
  {
   "cell_type": "code",
   "execution_count": 80,
   "id": "a600bb68",
   "metadata": {},
   "outputs": [
    {
     "data": {
      "text/html": [
       "<div>\n",
       "<style scoped>\n",
       "    .dataframe tbody tr th:only-of-type {\n",
       "        vertical-align: middle;\n",
       "    }\n",
       "\n",
       "    .dataframe tbody tr th {\n",
       "        vertical-align: top;\n",
       "    }\n",
       "\n",
       "    .dataframe thead th {\n",
       "        text-align: right;\n",
       "    }\n",
       "</style>\n",
       "<table border=\"1\" class=\"dataframe\">\n",
       "  <thead>\n",
       "    <tr style=\"text-align: right;\">\n",
       "      <th></th>\n",
       "      <th>name</th>\n",
       "      <th>category</th>\n",
       "      <th>pid</th>\n",
       "      <th>price</th>\n",
       "      <th>image</th>\n",
       "      <th>description</th>\n",
       "      <th>brand</th>\n",
       "      <th>rating</th>\n",
       "    </tr>\n",
       "  </thead>\n",
       "  <tbody>\n",
       "    <tr>\n",
       "      <th>0</th>\n",
       "      <td>cotton leaf Floral Single Blanket 104</td>\n",
       "      <td>Blankets, Quilts &amp; Dohars</td>\n",
       "      <td>6KO999OS</td>\n",
       "      <td>1999.0</td>\n",
       "      <td>http://img6a.flixcart.com/image/blanket/k/8/y/...</td>\n",
       "      <td>cotton leaf Floral Single Blanket 104 (1 Authe...</td>\n",
       "      <td>cotton leaf</td>\n",
       "      <td>2.8</td>\n",
       "    </tr>\n",
       "    <tr>\n",
       "      <th>1</th>\n",
       "      <td>Handloom Hut Polyester Pista (Green) Crush Sol...</td>\n",
       "      <td>Curtains</td>\n",
       "      <td>ENEOISU9</td>\n",
       "      <td>1599.0</td>\n",
       "      <td>http://img5a.flixcart.com/image/curtain/g/r/d/...</td>\n",
       "      <td>Buy Handloom Hut Polyester Pista (Green) Crush...</td>\n",
       "      <td>Handloom Hut</td>\n",
       "      <td>2.8</td>\n",
       "    </tr>\n",
       "    <tr>\n",
       "      <th>2</th>\n",
       "      <td>Handloomhub Polyester Pink Floral Eyelet Door ...</td>\n",
       "      <td>Curtains</td>\n",
       "      <td>96UAN6BB</td>\n",
       "      <td>799.0</td>\n",
       "      <td>http://img6a.flixcart.com/image/curtain/2/6/m/...</td>\n",
       "      <td>Buy Handloomhub Polyester Pink Floral Eyelet D...</td>\n",
       "      <td>Handloomhub</td>\n",
       "      <td>4.5</td>\n",
       "    </tr>\n",
       "    <tr>\n",
       "      <th>3</th>\n",
       "      <td>Handloomhub Polyester Light Blue Self Design E...</td>\n",
       "      <td>Curtains</td>\n",
       "      <td>BK9UNAAA</td>\n",
       "      <td>1499.0</td>\n",
       "      <td>http://img6a.flixcart.com/image/curtain/n/6/g/...</td>\n",
       "      <td>Buy Handloomhub Polyester Light Blue Self Desi...</td>\n",
       "      <td>Handloomhub</td>\n",
       "      <td>3.0</td>\n",
       "    </tr>\n",
       "    <tr>\n",
       "      <th>4</th>\n",
       "      <td>Handloomhub Polyester Pink Self Design Eyelet ...</td>\n",
       "      <td>Curtains</td>\n",
       "      <td>OIKSKNUO</td>\n",
       "      <td>1499.0</td>\n",
       "      <td>http://img5a.flixcart.com/image/curtain/k/t/c/...</td>\n",
       "      <td>Buy Handloomhub Polyester Pink Self Design Eye...</td>\n",
       "      <td>Handloomhub</td>\n",
       "      <td>4.1</td>\n",
       "    </tr>\n",
       "  </tbody>\n",
       "</table>\n",
       "</div>"
      ],
      "text/plain": [
       "                                                name                    category       pid   price                                              image                                        description         brand  rating\n",
       "0              cotton leaf Floral Single Blanket 104   Blankets, Quilts & Dohars  6KO999OS  1999.0  http://img6a.flixcart.com/image/blanket/k/8/y/...  cotton leaf Floral Single Blanket 104 (1 Authe...   cotton leaf     2.8\n",
       "1  Handloom Hut Polyester Pista (Green) Crush Sol...                    Curtains  ENEOISU9  1599.0  http://img5a.flixcart.com/image/curtain/g/r/d/...  Buy Handloom Hut Polyester Pista (Green) Crush...  Handloom Hut     2.8\n",
       "2  Handloomhub Polyester Pink Floral Eyelet Door ...                    Curtains  96UAN6BB   799.0  http://img6a.flixcart.com/image/curtain/2/6/m/...  Buy Handloomhub Polyester Pink Floral Eyelet D...   Handloomhub     4.5\n",
       "3  Handloomhub Polyester Light Blue Self Design E...                    Curtains  BK9UNAAA  1499.0  http://img6a.flixcart.com/image/curtain/n/6/g/...  Buy Handloomhub Polyester Light Blue Self Desi...   Handloomhub     3.0\n",
       "4  Handloomhub Polyester Pink Self Design Eyelet ...                    Curtains  OIKSKNUO  1499.0  http://img5a.flixcart.com/image/curtain/k/t/c/...  Buy Handloomhub Polyester Pink Self Design Eye...   Handloomhub     4.1"
      ]
     },
     "execution_count": 80,
     "metadata": {},
     "output_type": "execute_result"
    }
   ],
   "source": [
    "final_products.head()"
   ]
  },
  {
   "cell_type": "code",
   "execution_count": 81,
   "id": "3f3adb9a",
   "metadata": {},
   "outputs": [],
   "source": [
    "final_products.to_csv('final_products.csv', index=False)"
   ]
  },
  {
   "cell_type": "code",
   "execution_count": null,
   "id": "05d1319e",
   "metadata": {},
   "outputs": [],
   "source": []
  }
 ],
 "metadata": {
  "kernelspec": {
   "display_name": "Python 3",
   "language": "python",
   "name": "python3"
  },
  "language_info": {
   "codemirror_mode": {
    "name": "ipython",
    "version": 3
   },
   "file_extension": ".py",
   "mimetype": "text/x-python",
   "name": "python",
   "nbconvert_exporter": "python",
   "pygments_lexer": "ipython3",
   "version": "3.8.8"
  }
 },
 "nbformat": 4,
 "nbformat_minor": 5
}
